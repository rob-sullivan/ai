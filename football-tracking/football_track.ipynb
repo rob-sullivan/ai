{
 "cells": [
  {
   "cell_type": "markdown",
   "metadata": {},
   "source": [
    "## Setup\n",
    "\n",
    "- check gpu with `!nvidia-smi`\n",
    "- install kaggle to get data `!pip install kaggle --upgrade --quiet`\n",
    "- download [dataset](https://www.kaggle.com/competitions/dfl-bundesliga-data-shootout/data) using [Kaggle API](https://github.com/Kaggle/kaggle-api)"
   ]
  },
  {
   "cell_type": "code",
   "execution_count": null,
   "metadata": {},
   "outputs": [],
   "source": [
    "import os\n",
    "HOME = os.getcwd()\n",
    "print(HOME)"
   ]
  },
  {
   "cell_type": "markdown",
   "metadata": {},
   "source": [
    "## Download data\n",
    "!pip install kaggle --upgrade --quiet"
   ]
  }
 ],
 "metadata": {
  "kernelspec": {
   "display_name": "venv_ft",
   "language": "python",
   "name": "python3"
  },
  "language_info": {
   "codemirror_mode": {
    "name": "ipython",
    "version": 3
   },
   "file_extension": ".py",
   "mimetype": "text/x-python",
   "name": "python",
   "nbconvert_exporter": "python",
   "pygments_lexer": "ipython3",
   "version": "3.8.0"
  }
 },
 "nbformat": 4,
 "nbformat_minor": 2
}
