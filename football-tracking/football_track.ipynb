{
 "cells": [
  {
   "cell_type": "markdown",
   "metadata": {},
   "source": [
    "## Setup\n",
    "- download [dataset](https://www.kaggle.com/competitions/dfl-bundesliga-data-shootout/data) using [Kaggle API](https://github.com/Kaggle/kaggle-api), 150 videos that we can use for training\n",
    "- pip install ultralytics to get access to YOLO"
   ]
  },
  {
   "cell_type": "code",
   "execution_count": null,
   "metadata": {},
   "outputs": [],
   "source": [
    "from ultralytics import YOLO"
   ]
  },
  {
   "cell_type": "code",
   "execution_count": null,
   "metadata": {},
   "outputs": [],
   "source": [
    "model = YOLO('yolov8x')\n",
    "\n",
    "results = model.predict('./data/08fd33_4.mp4', save=True)\n",
    "print(results[0])\n",
    "for box in results[0].boxes:\n",
    "    print(box)"
   ]
  },
  {
   "cell_type": "markdown",
   "metadata": {},
   "source": [
    "problems,\n",
    "ball tracking not really good\n",
    "players on pitch and spectators off pitch\n",
    "if colour for ref is spotted then label as a ref."
   ]
  }
 ],
 "metadata": {
  "kernelspec": {
   "display_name": "venv_ft",
   "language": "python",
   "name": "python3"
  },
  "language_info": {
   "codemirror_mode": {
    "name": "ipython",
    "version": 3
   },
   "file_extension": ".py",
   "mimetype": "text/x-python",
   "name": "python",
   "nbconvert_exporter": "python",
   "pygments_lexer": "ipython3",
   "version": "3.8.0"
  }
 },
 "nbformat": 4,
 "nbformat_minor": 2
}
