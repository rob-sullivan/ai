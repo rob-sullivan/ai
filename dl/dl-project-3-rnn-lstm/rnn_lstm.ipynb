{
 "cells": [
  {
   "attachments": {},
   "cell_type": "markdown",
   "metadata": {},
   "source": [
    "# Recurrent Neural Network"
   ]
  },
  {
   "attachments": {},
   "cell_type": "markdown",
   "metadata": {},
   "source": [
    "## Part 1 - Data Preprocessing"
   ]
  },
  {
   "attachments": {},
   "cell_type": "markdown",
   "metadata": {},
   "source": [
    "### Importing the libraries"
   ]
  },
  {
   "cell_type": "code",
   "execution_count": 1,
   "metadata": {},
   "outputs": [],
   "source": [
    "import numpy as np\n",
    "import matplotlib.pyplot as plt\n",
    "import pandas as pd\n",
    "\n",
    "from sklearn.preprocessing import MinMaxScaler #for feature scaling\n",
    "\n",
    "#for model building\n",
    "from keras.models import Sequential\n",
    "from keras.layers import Dense, LSTM, Dropout"
   ]
  },
  {
   "attachments": {},
   "cell_type": "markdown",
   "metadata": {},
   "source": [
    "### Importing the training set"
   ]
  },
  {
   "cell_type": "code",
   "execution_count": 2,
   "metadata": {},
   "outputs": [],
   "source": [
    "\n",
    "dataset_train = pd.read_csv('dataset/Google_Stock_Price_Train.csv')\n",
    "training_set = dataset_train.iloc[:, 1:2].values"
   ]
  },
  {
   "attachments": {},
   "cell_type": "markdown",
   "metadata": {},
   "source": [
    "### Feature Scaling\n",
    "You can use standardisation or normalisation for RNN we will use normalisation"
   ]
  },
  {
   "cell_type": "code",
   "execution_count": 3,
   "metadata": {},
   "outputs": [],
   "source": [
    "sc = MinMaxScaler(feature_range=(0, 1))\n",
    "training_set_scaled = sc.fit_transform(training_set)"
   ]
  },
  {
   "attachments": {},
   "cell_type": "markdown",
   "metadata": {},
   "source": [
    "### Create data structure 60 timesteps and 1 output"
   ]
  },
  {
   "cell_type": "code",
   "execution_count": 4,
   "metadata": {},
   "outputs": [],
   "source": [
    "X_train = []\n",
    "y_train = []\n",
    "for i in range(60, 1258):# use previous examples to predict the next value\n",
    "    X_train.append(training_set_scaled[i-60:i,0])\n",
    "    y_train.append(training_set_scaled[i, 0])\n",
    "X_train, y_train = np.array(X_train), np.array(y_train)"
   ]
  },
  {
   "attachments": {},
   "cell_type": "markdown",
   "metadata": {},
   "source": [
    "### Reshaping\n",
    "We have two dimensions but we need to use reshape to get three dimensions. This third dimension will include the indicators."
   ]
  },
  {
   "cell_type": "code",
   "execution_count": 5,
   "metadata": {},
   "outputs": [],
   "source": [
    "X_train = np.reshape(X_train, (X_train.shape[0], X_train.shape[1], 1)) #batch size (numer of observations), #number of columns (timesteps), just have 1 indicator but can increase with more"
   ]
  },
  {
   "attachments": {},
   "cell_type": "markdown",
   "metadata": {},
   "source": [
    "## Part 2 - RNN-LSTM Model building with Keras"
   ]
  },
  {
   "cell_type": "code",
   "execution_count": 6,
   "metadata": {},
   "outputs": [],
   "source": [
    "regressor = Sequential()"
   ]
  },
  {
   "attachments": {},
   "cell_type": "markdown",
   "metadata": {},
   "source": [
    "### Add layers 1 to 4 with dropout to stop ovewrfitting"
   ]
  },
  {
   "cell_type": "code",
   "execution_count": 7,
   "metadata": {},
   "outputs": [],
   "source": [
    "regressor.add(LSTM(units = 50, return_sequences = True, input_shape = (X_train.shape[1], 1)))\n",
    "regressor.add(Dropout(0.2))"
   ]
  },
  {
   "cell_type": "code",
   "execution_count": 8,
   "metadata": {},
   "outputs": [],
   "source": [
    "regressor.add(LSTM(units = 50, return_sequences = True))\n",
    "regressor.add(Dropout(0.2))"
   ]
  },
  {
   "cell_type": "code",
   "execution_count": 9,
   "metadata": {},
   "outputs": [],
   "source": [
    "regressor.add(LSTM(units = 50, return_sequences = True))\n",
    "regressor.add(Dropout(0.2))"
   ]
  },
  {
   "cell_type": "code",
   "execution_count": 10,
   "metadata": {},
   "outputs": [],
   "source": [
    "regressor.add(LSTM(units = 50))\n",
    "regressor.add(Dropout(0.2))"
   ]
  },
  {
   "attachments": {},
   "cell_type": "markdown",
   "metadata": {},
   "source": [
    "### Add output layer"
   ]
  },
  {
   "cell_type": "code",
   "execution_count": 11,
   "metadata": {},
   "outputs": [],
   "source": [
    "regressor.add(Dense(units = 1))"
   ]
  },
  {
   "attachments": {},
   "cell_type": "markdown",
   "metadata": {},
   "source": [
    "### Compile RNN model"
   ]
  },
  {
   "cell_type": "code",
   "execution_count": 12,
   "metadata": {},
   "outputs": [],
   "source": [
    "regressor.compile(optimizer = 'adam', loss = 'mean_squared_error')"
   ]
  },
  {
   "attachments": {},
   "cell_type": "markdown",
   "metadata": {},
   "source": [
    "### Fit RNN to the Training set"
   ]
  },
  {
   "cell_type": "code",
   "execution_count": 13,
   "metadata": {},
   "outputs": [
    {
     "name": "stdout",
     "output_type": "stream",
     "text": [
      "Epoch 1/100\n",
      "38/38 [==============================] - 10s 69ms/step - loss: 0.0446\n",
      "Epoch 2/100\n",
      "38/38 [==============================] - 3s 67ms/step - loss: 0.0065\n",
      "Epoch 3/100\n",
      "38/38 [==============================] - 3s 72ms/step - loss: 0.0054\n",
      "Epoch 4/100\n",
      "38/38 [==============================] - 3s 68ms/step - loss: 0.0047\n",
      "Epoch 5/100\n",
      "38/38 [==============================] - 3s 69ms/step - loss: 0.0047\n",
      "Epoch 6/100\n",
      "38/38 [==============================] - 3s 68ms/step - loss: 0.0051\n",
      "Epoch 7/100\n",
      "38/38 [==============================] - 3s 69ms/step - loss: 0.0045\n",
      "Epoch 8/100\n",
      "38/38 [==============================] - 3s 70ms/step - loss: 0.0044\n",
      "Epoch 9/100\n",
      "38/38 [==============================] - 3s 69ms/step - loss: 0.0043\n",
      "Epoch 10/100\n",
      "38/38 [==============================] - 3s 70ms/step - loss: 0.0041\n",
      "Epoch 11/100\n",
      "38/38 [==============================] - 3s 69ms/step - loss: 0.0039\n",
      "Epoch 12/100\n",
      "38/38 [==============================] - 3s 70ms/step - loss: 0.0043\n",
      "Epoch 13/100\n",
      "38/38 [==============================] - 3s 70ms/step - loss: 0.0043\n",
      "Epoch 14/100\n",
      "38/38 [==============================] - 3s 72ms/step - loss: 0.0039\n",
      "Epoch 15/100\n",
      "38/38 [==============================] - 3s 71ms/step - loss: 0.0041\n",
      "Epoch 16/100\n",
      "38/38 [==============================] - 3s 71ms/step - loss: 0.0033\n",
      "Epoch 17/100\n",
      "38/38 [==============================] - 3s 73ms/step - loss: 0.0038\n",
      "Epoch 18/100\n",
      "38/38 [==============================] - 3s 72ms/step - loss: 0.0032\n",
      "Epoch 19/100\n",
      "38/38 [==============================] - 3s 70ms/step - loss: 0.0034\n",
      "Epoch 20/100\n",
      "38/38 [==============================] - 3s 70ms/step - loss: 0.0041\n",
      "Epoch 21/100\n",
      "38/38 [==============================] - 3s 71ms/step - loss: 0.0037\n",
      "Epoch 22/100\n",
      "38/38 [==============================] - 3s 71ms/step - loss: 0.0033\n",
      "Epoch 23/100\n",
      "38/38 [==============================] - 3s 70ms/step - loss: 0.0033\n",
      "Epoch 24/100\n",
      "38/38 [==============================] - 3s 70ms/step - loss: 0.0031\n",
      "Epoch 25/100\n",
      "38/38 [==============================] - 3s 71ms/step - loss: 0.0034\n",
      "Epoch 26/100\n",
      "38/38 [==============================] - 3s 70ms/step - loss: 0.0035\n",
      "Epoch 27/100\n",
      "38/38 [==============================] - 3s 70ms/step - loss: 0.0027\n",
      "Epoch 28/100\n",
      "38/38 [==============================] - 3s 70ms/step - loss: 0.0026\n",
      "Epoch 29/100\n",
      "38/38 [==============================] - 3s 71ms/step - loss: 0.0030\n",
      "Epoch 30/100\n",
      "38/38 [==============================] - 3s 70ms/step - loss: 0.0029\n",
      "Epoch 31/100\n",
      "38/38 [==============================] - 3s 71ms/step - loss: 0.0034\n",
      "Epoch 32/100\n",
      "38/38 [==============================] - 3s 71ms/step - loss: 0.0031\n",
      "Epoch 33/100\n",
      "38/38 [==============================] - 3s 70ms/step - loss: 0.0025\n",
      "Epoch 34/100\n",
      "38/38 [==============================] - 3s 70ms/step - loss: 0.0027\n",
      "Epoch 35/100\n",
      "38/38 [==============================] - 3s 71ms/step - loss: 0.0027\n",
      "Epoch 36/100\n",
      "38/38 [==============================] - 3s 71ms/step - loss: 0.0029\n",
      "Epoch 37/100\n",
      "38/38 [==============================] - 3s 70ms/step - loss: 0.0025\n",
      "Epoch 38/100\n",
      "38/38 [==============================] - 3s 70ms/step - loss: 0.0028\n",
      "Epoch 39/100\n",
      "38/38 [==============================] - 3s 71ms/step - loss: 0.0027\n",
      "Epoch 40/100\n",
      "38/38 [==============================] - 3s 70ms/step - loss: 0.0026\n",
      "Epoch 41/100\n",
      "38/38 [==============================] - 3s 70ms/step - loss: 0.0025\n",
      "Epoch 42/100\n",
      "38/38 [==============================] - 3s 70ms/step - loss: 0.0023\n",
      "Epoch 43/100\n",
      "38/38 [==============================] - 3s 71ms/step - loss: 0.0025\n",
      "Epoch 44/100\n",
      "38/38 [==============================] - 3s 70ms/step - loss: 0.0024\n",
      "Epoch 45/100\n",
      "38/38 [==============================] - 3s 70ms/step - loss: 0.0026\n",
      "Epoch 46/100\n",
      "38/38 [==============================] - 3s 70ms/step - loss: 0.0026\n",
      "Epoch 47/100\n",
      "38/38 [==============================] - 3s 71ms/step - loss: 0.0023\n",
      "Epoch 48/100\n",
      "38/38 [==============================] - 3s 70ms/step - loss: 0.0023\n",
      "Epoch 49/100\n",
      "38/38 [==============================] - 3s 70ms/step - loss: 0.0023\n",
      "Epoch 50/100\n",
      "38/38 [==============================] - 3s 72ms/step - loss: 0.0024\n",
      "Epoch 51/100\n",
      "38/38 [==============================] - 3s 70ms/step - loss: 0.0021\n",
      "Epoch 52/100\n",
      "38/38 [==============================] - 3s 70ms/step - loss: 0.0023\n",
      "Epoch 53/100\n",
      "38/38 [==============================] - 3s 71ms/step - loss: 0.0023\n",
      "Epoch 54/100\n",
      "38/38 [==============================] - 3s 71ms/step - loss: 0.0021\n",
      "Epoch 55/100\n",
      "38/38 [==============================] - 3s 70ms/step - loss: 0.0022\n",
      "Epoch 56/100\n",
      "38/38 [==============================] - 3s 70ms/step - loss: 0.0022\n",
      "Epoch 57/100\n",
      "38/38 [==============================] - 3s 73ms/step - loss: 0.0023\n",
      "Epoch 58/100\n",
      "38/38 [==============================] - 3s 70ms/step - loss: 0.0021\n",
      "Epoch 59/100\n",
      "38/38 [==============================] - 3s 70ms/step - loss: 0.0020\n",
      "Epoch 60/100\n",
      "38/38 [==============================] - 3s 70ms/step - loss: 0.0022\n",
      "Epoch 61/100\n",
      "38/38 [==============================] - 3s 72ms/step - loss: 0.0025\n",
      "Epoch 62/100\n",
      "38/38 [==============================] - 3s 70ms/step - loss: 0.0021\n",
      "Epoch 63/100\n",
      "38/38 [==============================] - 3s 70ms/step - loss: 0.0021\n",
      "Epoch 64/100\n",
      "38/38 [==============================] - 3s 70ms/step - loss: 0.0022\n",
      "Epoch 65/100\n",
      "38/38 [==============================] - 3s 71ms/step - loss: 0.0021\n",
      "Epoch 66/100\n",
      "38/38 [==============================] - 3s 70ms/step - loss: 0.0020\n",
      "Epoch 67/100\n",
      "38/38 [==============================] - 3s 70ms/step - loss: 0.0020\n",
      "Epoch 68/100\n",
      "38/38 [==============================] - 3s 71ms/step - loss: 0.0018\n",
      "Epoch 69/100\n",
      "38/38 [==============================] - 3s 70ms/step - loss: 0.0020\n",
      "Epoch 70/100\n",
      "38/38 [==============================] - 3s 70ms/step - loss: 0.0020\n",
      "Epoch 71/100\n",
      "38/38 [==============================] - 3s 70ms/step - loss: 0.0019\n",
      "Epoch 72/100\n",
      "38/38 [==============================] - 3s 71ms/step - loss: 0.0018\n",
      "Epoch 73/100\n",
      "38/38 [==============================] - 3s 70ms/step - loss: 0.0016\n",
      "Epoch 74/100\n",
      "38/38 [==============================] - 3s 70ms/step - loss: 0.0018\n",
      "Epoch 75/100\n",
      "38/38 [==============================] - 3s 71ms/step - loss: 0.0019\n",
      "Epoch 76/100\n",
      "38/38 [==============================] - 3s 72ms/step - loss: 0.0016\n",
      "Epoch 77/100\n",
      "38/38 [==============================] - 3s 70ms/step - loss: 0.0017\n",
      "Epoch 78/100\n",
      "38/38 [==============================] - 3s 70ms/step - loss: 0.0018\n",
      "Epoch 79/100\n",
      "38/38 [==============================] - 3s 71ms/step - loss: 0.0018\n",
      "Epoch 80/100\n",
      "38/38 [==============================] - 3s 70ms/step - loss: 0.0017\n",
      "Epoch 81/100\n",
      "38/38 [==============================] - 3s 70ms/step - loss: 0.0017\n",
      "Epoch 82/100\n",
      "38/38 [==============================] - 3s 72ms/step - loss: 0.0018\n",
      "Epoch 83/100\n",
      "38/38 [==============================] - 3s 70ms/step - loss: 0.0017\n",
      "Epoch 84/100\n",
      "38/38 [==============================] - 3s 70ms/step - loss: 0.0016\n",
      "Epoch 85/100\n",
      "38/38 [==============================] - 3s 70ms/step - loss: 0.0016\n",
      "Epoch 86/100\n",
      "38/38 [==============================] - 3s 71ms/step - loss: 0.0015\n",
      "Epoch 87/100\n",
      "38/38 [==============================] - 3s 71ms/step - loss: 0.0015\n",
      "Epoch 88/100\n",
      "38/38 [==============================] - 3s 70ms/step - loss: 0.0017\n",
      "Epoch 89/100\n",
      "38/38 [==============================] - 3s 71ms/step - loss: 0.0016\n",
      "Epoch 90/100\n",
      "38/38 [==============================] - 3s 70ms/step - loss: 0.0017\n",
      "Epoch 91/100\n",
      "38/38 [==============================] - 3s 70ms/step - loss: 0.0016\n",
      "Epoch 92/100\n",
      "38/38 [==============================] - 3s 71ms/step - loss: 0.0016\n",
      "Epoch 93/100\n",
      "38/38 [==============================] - 3s 70ms/step - loss: 0.0015\n",
      "Epoch 94/100\n",
      "38/38 [==============================] - 3s 70ms/step - loss: 0.0015\n",
      "Epoch 95/100\n",
      "38/38 [==============================] - 3s 70ms/step - loss: 0.0015\n",
      "Epoch 96/100\n",
      "38/38 [==============================] - 3s 70ms/step - loss: 0.0014\n",
      "Epoch 97/100\n",
      "38/38 [==============================] - 3s 70ms/step - loss: 0.0015\n",
      "Epoch 98/100\n",
      "38/38 [==============================] - 3s 71ms/step - loss: 0.0013\n",
      "Epoch 99/100\n",
      "38/38 [==============================] - 3s 71ms/step - loss: 0.0013\n",
      "Epoch 100/100\n",
      "38/38 [==============================] - 3s 70ms/step - loss: 0.0013\n"
     ]
    },
    {
     "data": {
      "text/plain": [
       "<keras.callbacks.History at 0x20c18f142b0>"
      ]
     },
     "execution_count": 13,
     "metadata": {},
     "output_type": "execute_result"
    }
   ],
   "source": [
    "regressor.fit(X_train, y_train, epochs = 100, batch_size = 32)"
   ]
  },
  {
   "attachments": {},
   "cell_type": "markdown",
   "metadata": {},
   "source": [
    "## Part 3 - Predict & Visualise"
   ]
  },
  {
   "attachments": {},
   "cell_type": "markdown",
   "metadata": {},
   "source": [
    "### Real 2017 stock price"
   ]
  },
  {
   "cell_type": "code",
   "execution_count": 16,
   "metadata": {},
   "outputs": [],
   "source": [
    "dataset_test = pd.read_csv('dataset/Google_Stock_Price_Test.csv')\n",
    "real_stock_price = dataset_test.iloc[:, 1:2].values"
   ]
  },
  {
   "attachments": {},
   "cell_type": "markdown",
   "metadata": {},
   "source": [
    "### Get predicted 2017 stock price"
   ]
  },
  {
   "cell_type": "code",
   "execution_count": 18,
   "metadata": {},
   "outputs": [
    {
     "name": "stdout",
     "output_type": "stream",
     "text": [
      "1/1 [==============================] - 2s 2s/step\n"
     ]
    }
   ],
   "source": [
    "dataset_total = pd.concat((dataset_train['Open'], dataset_test['Open']), axis = 0)\n",
    "inputs = dataset_total[len(dataset_total) - len(dataset_test) - 60:].values\n",
    "inputs = inputs.reshape(-1,1)\n",
    "inputs = sc.transform(inputs)\n",
    "X_test = []\n",
    "for i in range(60, 80):\n",
    "    X_test.append(inputs[i-60:i, 0])\n",
    "X_test = np.array(X_test)\n",
    "X_test = np.reshape(X_test, (X_test.shape[0], X_test.shape[1], 1))\n",
    "predicted_stock_price = regressor.predict(X_test)\n",
    "predicted_stock_price = sc.inverse_transform(predicted_stock_price)"
   ]
  },
  {
   "attachments": {},
   "cell_type": "markdown",
   "metadata": {},
   "source": [
    "### Visualising the results"
   ]
  },
  {
   "cell_type": "code",
   "execution_count": 19,
   "metadata": {},
   "outputs": [
    {
     "data": {
      "image/png": "[encoded data removed]",
      "text/plain": [
       "<Figure size 640x480 with 1 Axes>"
      ]
     },
     "metadata": {},
     "output_type": "display_data"
    }
   ],
   "source": [
    "plt.plot(real_stock_price, color = 'red', label = 'Real Google Stock Price')\n",
    "plt.plot(predicted_stock_price, color = 'blue', label = 'Predicted Google Stock Price')\n",
    "plt.title('Google Stock Price Prediction')\n",
    "plt.xlabel('Time')\n",
    "plt.ylabel('Google Stock Price')\n",
    "plt.legend()\n",
    "plt.show()"
   ]
  }
 ],
 "metadata": {
  "kernelspec": {
   "display_name": "venv_dl",
   "language": "python",
   "name": "python3"
  },
  "language_info": {
   "codemirror_mode": {
    "name": "ipython",
    "version": 3
   },
   "file_extension": ".py",
   "mimetype": "text/x-python",
   "name": "python",
   "nbconvert_exporter": "python",
   "pygments_lexer": "ipython3",
   "version": "3.8.10"
  },
  "orig_nbformat": 4
 },
 "nbformat": 4,
 "nbformat_minor": 2
}
