{
  "nbformat": 4,
  "nbformat_minor": 0,
  "metadata": {
    "colab": {
      "name": "DL_A_Z_Colab_Run_Instructions (1).ipynb 2",
      "provenance": []
    },
    "kernelspec": {
      "name": "python3",
      "display_name": "Python 3"
    }
  },
  "cells": [
    {
      "cell_type": "code",
      "metadata": {
        "id": "KEp38yaVUVt7",
        "colab_type": "code",
        "colab": {}
      },
      "source": [
        "#First add the files into your Google Drive. Then mount the drive so that you can navigate to the path of the files. \n",
        "from google.colab import drive\n",
        "drive.mount('/content/gdrive')"
      ],
      "execution_count": 0,
      "outputs": []
    },
    {
      "cell_type": "code",
      "metadata": {
        "id": "DUcZ5F3IUxHC",
        "colab_type": "code",
        "colab": {}
      },
      "source": [
        "#cd into the drive\n",
        "cd gdrive"
      ],
      "execution_count": 0,
      "outputs": []
    },
    {
      "cell_type": "code",
      "metadata": {
        "id": "-1vCXbyLU2Mz",
        "colab_type": "code",
        "colab": {}
      },
      "source": [
        "#Continue navigating to the path where the files are stored\n",
        "cd My Drive"
      ],
      "execution_count": 0,
      "outputs": []
    },
    {
      "cell_type": "code",
      "metadata": {
        "id": "bzuAYkg6U4GW",
        "colab_type": "code",
        "colab": {}
      },
      "source": [
        "#my drive folder was called DL\n",
        "cd DL"
      ],
      "execution_count": 0,
      "outputs": []
    },
    {
      "cell_type": "code",
      "metadata": {
        "id": "73ngkj6HU6ox",
        "colab_type": "code",
        "colab": {}
      },
      "source": [
        "#CD into the ANN folder\n",
        "cd Artificial_Neural_Networks 9"
      ],
      "execution_count": 0,
      "outputs": []
    },
    {
      "cell_type": "code",
      "metadata": {
        "id": "g-MTno5PVAUJ",
        "colab_type": "code",
        "colab": {}
      },
      "source": [
        "#use the Python command to execute a file in Colab\n",
        "!python ann.py"
      ],
      "execution_count": 0,
      "outputs": []
    },
    {
      "cell_type": "code",
      "metadata": {
        "id": "ewdeudySWtGb",
        "colab_type": "code",
        "colab": {}
      },
      "source": [
        "#Once this runs you can cd again, and repeat the process\n",
        "cd .."
      ],
      "execution_count": 0,
      "outputs": []
    },
    {
      "cell_type": "code",
      "metadata": {
        "id": "Vu0X2QXwWwim",
        "colab_type": "code",
        "colab": {}
      },
      "source": [
        "#Navigating to the AutoEncoders\n",
        "cd AutoEncoders/"
      ],
      "execution_count": 0,
      "outputs": []
    },
    {
      "cell_type": "code",
      "metadata": {
        "id": "Y__XKh44U1d3",
        "colab_type": "code",
        "colab": {}
      },
      "source": [
        "!python ae.py"
      ],
      "execution_count": 0,
      "outputs": []
    },
    {
      "cell_type": "code",
      "metadata": {
        "id": "HMCGwZ8yWyXr",
        "colab_type": "code",
        "colab": {}
      },
      "source": [
        "#Listing the directory\n",
        "cd .."
      ],
      "execution_count": 0,
      "outputs": []
    },
    {
      "cell_type": "code",
      "metadata": {
        "id": "wFDYaupuW9F0",
        "colab_type": "code",
        "colab": {}
      },
      "source": [
        "#Navigating to BM\n",
        "cd Boltzmann_Machines 2"
      ],
      "execution_count": 0,
      "outputs": []
    },
    {
      "cell_type": "code",
      "metadata": {
        "id": "5dI55Ir6W_JD",
        "colab_type": "code",
        "colab": {}
      },
      "source": [
        "#Executing RBM\n",
        "!python rbm.py"
      ],
      "execution_count": 0,
      "outputs": []
    },
    {
      "cell_type": "code",
      "metadata": {
        "id": "iwrvNyN5XORC",
        "colab_type": "code",
        "colab": {}
      },
      "source": [
        "#Changing directory\n",
        "cd .."
      ],
      "execution_count": 0,
      "outputs": []
    },
    {
      "cell_type": "code",
      "metadata": {
        "id": "Fh3sUl0zXPZX",
        "colab_type": "code",
        "colab": {}
      },
      "source": [
        "#Changind directory\n",
        "cd Convolutional_Neural_Networks 3"
      ],
      "execution_count": 0,
      "outputs": []
    },
    {
      "cell_type": "code",
      "metadata": {
        "id": "nB9vXWNNXRfX",
        "colab_type": "code",
        "colab": {}
      },
      "source": [
        "#Executing cnn.py\n",
        "!python cnn.py"
      ],
      "execution_count": 0,
      "outputs": []
    },
    {
      "cell_type": "code",
      "metadata": {
        "id": "IYNPpw13XVpR",
        "colab_type": "code",
        "colab": {}
      },
      "source": [
        "#Changind directory\n",
        "cd .."
      ],
      "execution_count": 0,
      "outputs": []
    },
    {
      "cell_type": "code",
      "metadata": {
        "id": "dZvAFMj6XX8X",
        "colab_type": "code",
        "colab": {}
      },
      "source": [
        "#Changind directory\n",
        "cd Recurrent_Neural_Networks 4"
      ],
      "execution_count": 0,
      "outputs": []
    },
    {
      "cell_type": "code",
      "metadata": {
        "id": "Nf-vBhTVXcZc",
        "colab_type": "code",
        "colab": {}
      },
      "source": [
        "#Executing rnn.py\n",
        "!python rnn.py"
      ],
      "execution_count": 0,
      "outputs": []
    },
    {
      "cell_type": "code",
      "metadata": {
        "id": "CsApVDIgXe88",
        "colab_type": "code",
        "colab": {}
      },
      "source": [
        "#Changind directory\n",
        "cd .."
      ],
      "execution_count": 0,
      "outputs": []
    },
    {
      "cell_type": "code",
      "metadata": {
        "id": "-OwRrc8MXk0x",
        "colab_type": "code",
        "colab": {}
      },
      "source": [
        "#Changind directory\n",
        "cd Self_Organizing_Maps/\n"
      ],
      "execution_count": 0,
      "outputs": []
    },
    {
      "cell_type": "code",
      "metadata": {
        "id": "IqsnRf5SXnh7",
        "colab_type": "code",
        "colab": {}
      },
      "source": [
        "#Executing som.py\n",
        "!python som.py"
      ],
      "execution_count": 0,
      "outputs": []
    },
    {
      "cell_type": "code",
      "metadata": {
        "id": "DRmFf0QfX_Cx",
        "colab_type": "code",
        "colab": {}
      },
      "source": [
        "#Executing som.py\n",
        "\n",
        "# Self Organizing Map\n",
        "\n",
        "# Importing the libraries\n",
        "import numpy as np\n",
        "import matplotlib.pyplot as plt\n",
        "import pandas as pd\n",
        "\n",
        "# Importing the dataset\n",
        "dataset = pd.read_csv('Credit_Card_Applications.csv')\n",
        "X = dataset.iloc[:, :-1].values\n",
        "y = dataset.iloc[:, -1].values\n",
        "\n",
        "# Feature Scaling\n",
        "from sklearn.preprocessing import MinMaxScaler\n",
        "sc = MinMaxScaler(feature_range = (0, 1))\n",
        "X = sc.fit_transform(X)\n",
        "\n",
        "# Training the SOM\n",
        "from minisom import MiniSom\n",
        "som = MiniSom(x = 10, y = 10, input_len = 15, sigma = 1.0, learning_rate = 0.5)\n",
        "som.random_weights_init(X)\n",
        "som.train_random(data = X, num_iteration = 100)\n",
        "\n",
        "# Visualizing the results\n",
        "from pylab import bone, pcolor, colorbar, plot, show\n",
        "bone()\n",
        "pcolor(som.distance_map().T)\n",
        "colorbar()\n",
        "markers = ['o', 's']\n",
        "colors = ['r', 'g']\n",
        "for i, x in enumerate(X):\n",
        "    w = som.winner(x)\n",
        "    plot(w[0] + 0.5,\n",
        "         w[1] + 0.5,\n",
        "         markers[y[i]],\n",
        "         markeredgecolor = colors[y[i]],\n",
        "         markerfacecolor = 'None',\n",
        "         markersize = 10,\n",
        "         markeredgewidth = 2)\n",
        "show()\n",
        "\n",
        "# Finding the frauds\n",
        "mappings = som.win_map(X)\n",
        "frauds = np.concatenate((mappings[(5,4)], mappings[(6,5)]), axis = 0)\n",
        "frauds = sc.inverse_transform(frauds)"
      ],
      "execution_count": 0,
      "outputs": []
    }
  ]
}