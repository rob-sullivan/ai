{
  "cells": [
    {
      "cell_type": "markdown",
      "metadata": {
        "id": "EJ9dz52k99Bi"
      },
      "source": [
        "ref: https://stackoverflow.com/questions/61291795/detecting-borders-of-a-page-on-a-table-and-then-refocus"
      ]
    },
    {
      "attachments": {},
      "cell_type": "markdown",
      "metadata": {},
      "source": [
        "* pip install numpy\n",
        "* pip install opencv-python\n",
        "* pip install matplotlib"
      ]
    },
    {
      "cell_type": "code",
      "execution_count": 1,
      "metadata": {
        "id": "g2-0UowP_MAt"
      },
      "outputs": [],
      "source": [
        "import os\n",
        "import cv2\n",
        "#import PIL\n",
        "#print(PIL.PILLOW_VERSION)\n",
        "import matplotlib.pyplot as plt"
      ]
    },
    {
      "cell_type": "code",
      "execution_count": 2,
      "metadata": {
        "id": "Whzuy-hUHm_G"
      },
      "outputs": [],
      "source": [
        "input_path = r'D:\\Projects\\repos\\ai\\cv-project-4-smart-cropping\\data'\n",
        "image_filename = '20221205_083430'\n",
        "output_path = r'D:\\Projects\\repos\\ai\\cv-project-4-smart-cropping\\cropped'"
      ]
    },
    {
      "attachments": {},
      "cell_type": "markdown",
      "metadata": {},
      "source": [
        "# Histogram to find threshold values"
      ]
    },
    {
      "cell_type": "code",
      "execution_count": null,
      "metadata": {
        "id": "1NT0H5NY-BUr"
      },
      "outputs": [],
      "source": [
        "#Read image and convert to gray.\n",
        "image = cv2.imread(input_path + image_filename +\".jpg\")\n",
        "gray_image = cv2.cvtColor(image,cv2.COLOR_BGR2GRAY)"
      ]
    },
    {
      "cell_type": "code",
      "execution_count": null,
      "metadata": {
        "id": "awGEB8AH-JGz"
      },
      "outputs": [],
      "source": [
        "#check histogram to choose threshold values. https://web.archive.org/web/20210224013921/https://opencv-python-tutroals.readthedocs.io/en/latest/py_tutorials/py_imgproc/py_histograms/py_histogram_begins/py_histogram_begins.html\n",
        "color = ('b','g','r')\n",
        "fig = plt.figure(figsize=(12,12))\n",
        "ax = fig.add_subplot(1,2,1)\n",
        "ax.imshow(image)\n",
        "ax1 = fig.add_subplot(1,2,2)\n",
        "for i,col in enumerate(color):\n",
        "    histogram = cv2.calcHist([image],[i],None,[256],[0,256])\n",
        "    ax1.plot(histogram,color = col)\n",
        "    ax1.set_xlim([0,256])"
      ]
    },
    {
      "cell_type": "code",
      "execution_count": null,
      "metadata": {
        "id": "J_zpuglI-VK7"
      },
      "outputs": [],
      "source": [
        "#Use blur to get rid of the notebook's details.\n",
        "blurred_gray_image = cv2.blur(gray_image,(21,21))"
      ]
    },
    {
      "cell_type": "code",
      "execution_count": null,
      "metadata": {
        "id": "24vJ_gC6-eOG"
      },
      "outputs": [],
      "source": [
        "#Do thresholding. Using values which we got from the histogram. https://en.wikipedia.org/wiki/Thresholding_(image_processing)\n",
        "_,thresholded_blurry_image = cv2.threshold(blurred_gray_image,165,255,cv2.THRESH_BINARY)"
      ]
    },
    {
      "cell_type": "code",
      "execution_count": null,
      "metadata": {
        "id": "DZW8B7Fq-nbg"
      },
      "outputs": [],
      "source": [
        "#Detect contours (which are undivided, closed shapes). https://docs.opencv.org/3.4/d4/d73/tutorial_py_contours_begin.html\n",
        "contours, hierarchy = cv2.findContours(thresholded_blurry_image,\n",
        "cv2.RETR_TREE, cv2.CHAIN_APPROX_SIMPLE)"
      ]
    },
    {
      "cell_type": "code",
      "execution_count": null,
      "metadata": {
        "id": "BBtRicnD-vGC"
      },
      "outputs": [],
      "source": [
        "#Draw the biggest contour's outline to the copy of the original image if there are any contours.Source post for finding the biggest contour.\n",
        "output = image.copy()\n",
        "if len(contours) != 0:\n",
        "    c = max(contours, key = cv2.contourArea)\n",
        "    # coordinates of the contour\n",
        "    x,y,w,h = cv2.boundingRect(c)\n",
        "    cv2.rectangle(output,(x,y),(x+w,y+h),(0,0,255),2)"
      ]
    },
    {
      "cell_type": "code",
      "execution_count": null,
      "metadata": {
        "id": "3t6KhBIw-z21"
      },
      "outputs": [],
      "source": [
        "#Show the result\n",
        "output = cv2.cvtColor(output,cv2.COLOR_BGR2RGB)\n",
        "plt.imshow(output)"
      ]
    },
    {
      "cell_type": "code",
      "execution_count": null,
      "metadata": {
        "id": "hBZGi1euEg9F"
      },
      "outputs": [],
      "source": [
        "#now crop image\n",
        "output = output[y:y+h, x:x+w]\n",
        "plt.imshow(output)"
      ]
    },
    {
      "cell_type": "code",
      "execution_count": null,
      "metadata": {
        "id": "fa48q-vzFM7r"
      },
      "outputs": [],
      "source": [
        "# save cropped image\n",
        "status = cv2.imwrite(output_path + +\"\\\\\" + image_filename + '_cropped' + '.jpg', output)\n",
        "print(\"Image written to file-system : \",status)"
      ]
    },
    {
      "cell_type": "markdown",
      "metadata": {
        "id": "zYUEyriX_Bit"
      },
      "source": [
        "Use cv2.imwrite() function to save the image.\n",
        "\n",
        "Be aware that this method won't always work because we evaluate the histogram ourselves and pick the thresholding values by hand. If you want to take a more general approach try adaptive thresholding or evaluate histogram values with help of an algorithm."
      ]
    },
    {
      "attachments": {},
      "cell_type": "markdown",
      "metadata": {},
      "source": [
        "# Bulk Smart Page Cropping"
      ]
    },
    {
      "cell_type": "code",
      "execution_count": 23,
      "metadata": {},
      "outputs": [],
      "source": [
        "def bulkCropImages(folder):\n",
        "    for filename in os.listdir(folder):\n",
        "        image = cv2.imread(os.path.join(folder,filename))\n",
        "        if image is not None:\n",
        "            #Read image and convert to gray.\n",
        "            gray_image = cv2.cvtColor(image,cv2.COLOR_BGR2GRAY)\n",
        "            #Use blur to get rid of the notebook's details.\n",
        "            blurred_gray_image = cv2.blur(gray_image,(21,21))\n",
        "            #forget histogram, we assume threshold values from testing earlier\n",
        "            _,thresholded_blurry_image = cv2.threshold(blurred_gray_image,150,255,cv2.THRESH_BINARY) #165, 255 #120,255\n",
        "            #Detect contours (which are undivided, closed shapes).\n",
        "            contours, hierarchy = cv2.findContours(thresholded_blurry_image,cv2.RETR_TREE, cv2.CHAIN_APPROX_SIMPLE)\n",
        "            if len(contours) != 0:\n",
        "                c = max(contours, key = cv2.contourArea)\n",
        "                # coordinates of the contour\n",
        "                x,y,w,h = cv2.boundingRect(c)\n",
        "            #now crop image\n",
        "            output = image[y:y+h, x:x+w]\n",
        "            # save cropped image\n",
        "            status = cv2.imwrite(output_path + \"\\\\\" + filename + '_cropped' + '.jpg', output)\n",
        "            print(filename + \" written to \" + output_path + \": \" + str(status))"
      ]
    },
    {
      "cell_type": "code",
      "execution_count": 24,
      "metadata": {},
      "outputs": [
        {
          "name": "stdout",
          "output_type": "stream",
          "text": [
            "20221226_190425.jpg written to D:\\Projects\\repos\\ai\\cv-project-4-smart-cropping\\cropped: True\n",
            "20221226_190439.jpg written to D:\\Projects\\repos\\ai\\cv-project-4-smart-cropping\\cropped: True\n",
            "20221226_190445.jpg written to D:\\Projects\\repos\\ai\\cv-project-4-smart-cropping\\cropped: True\n",
            "20221226_190451.jpg written to D:\\Projects\\repos\\ai\\cv-project-4-smart-cropping\\cropped: True\n",
            "20221226_190500.jpg written to D:\\Projects\\repos\\ai\\cv-project-4-smart-cropping\\cropped: True\n",
            "20221226_190503.jpg written to D:\\Projects\\repos\\ai\\cv-project-4-smart-cropping\\cropped: True\n",
            "20221226_190508.jpg written to D:\\Projects\\repos\\ai\\cv-project-4-smart-cropping\\cropped: True\n",
            "20221226_190513.jpg written to D:\\Projects\\repos\\ai\\cv-project-4-smart-cropping\\cropped: True\n",
            "20221226_190519.jpg written to D:\\Projects\\repos\\ai\\cv-project-4-smart-cropping\\cropped: True\n",
            "20221226_190524.jpg written to D:\\Projects\\repos\\ai\\cv-project-4-smart-cropping\\cropped: True\n",
            "20221226_190533.jpg written to D:\\Projects\\repos\\ai\\cv-project-4-smart-cropping\\cropped: True\n",
            "20221226_190537.jpg written to D:\\Projects\\repos\\ai\\cv-project-4-smart-cropping\\cropped: True\n",
            "20221226_190545.jpg written to D:\\Projects\\repos\\ai\\cv-project-4-smart-cropping\\cropped: True\n",
            "20221226_190549.jpg written to D:\\Projects\\repos\\ai\\cv-project-4-smart-cropping\\cropped: True\n",
            "20221226_190608.jpg written to D:\\Projects\\repos\\ai\\cv-project-4-smart-cropping\\cropped: True\n",
            "20221226_190612.jpg written to D:\\Projects\\repos\\ai\\cv-project-4-smart-cropping\\cropped: True\n",
            "20221226_190622.jpg written to D:\\Projects\\repos\\ai\\cv-project-4-smart-cropping\\cropped: True\n",
            "20221226_190629.jpg written to D:\\Projects\\repos\\ai\\cv-project-4-smart-cropping\\cropped: True\n",
            "20221226_190634.jpg written to D:\\Projects\\repos\\ai\\cv-project-4-smart-cropping\\cropped: True\n",
            "20221226_190636.jpg written to D:\\Projects\\repos\\ai\\cv-project-4-smart-cropping\\cropped: True\n",
            "20221226_190646.jpg written to D:\\Projects\\repos\\ai\\cv-project-4-smart-cropping\\cropped: True\n",
            "20221226_190650.jpg written to D:\\Projects\\repos\\ai\\cv-project-4-smart-cropping\\cropped: True\n",
            "20221226_190708.jpg written to D:\\Projects\\repos\\ai\\cv-project-4-smart-cropping\\cropped: True\n",
            "20221226_190712.jpg written to D:\\Projects\\repos\\ai\\cv-project-4-smart-cropping\\cropped: True\n",
            "20221226_190722.jpg written to D:\\Projects\\repos\\ai\\cv-project-4-smart-cropping\\cropped: True\n",
            "20221226_190726.jpg written to D:\\Projects\\repos\\ai\\cv-project-4-smart-cropping\\cropped: True\n",
            "20221226_190733.jpg written to D:\\Projects\\repos\\ai\\cv-project-4-smart-cropping\\cropped: True\n",
            "20221226_190737.jpg written to D:\\Projects\\repos\\ai\\cv-project-4-smart-cropping\\cropped: True\n",
            "20221226_190743.jpg written to D:\\Projects\\repos\\ai\\cv-project-4-smart-cropping\\cropped: True\n",
            "20221226_190746.jpg written to D:\\Projects\\repos\\ai\\cv-project-4-smart-cropping\\cropped: True\n",
            "20221226_190751.jpg written to D:\\Projects\\repos\\ai\\cv-project-4-smart-cropping\\cropped: True\n",
            "20221226_190754.jpg written to D:\\Projects\\repos\\ai\\cv-project-4-smart-cropping\\cropped: True\n",
            "20221226_190800.jpg written to D:\\Projects\\repos\\ai\\cv-project-4-smart-cropping\\cropped: True\n",
            "20221226_190803.jpg written to D:\\Projects\\repos\\ai\\cv-project-4-smart-cropping\\cropped: True\n",
            "20221226_190812.jpg written to D:\\Projects\\repos\\ai\\cv-project-4-smart-cropping\\cropped: True\n",
            "20221226_190815.jpg written to D:\\Projects\\repos\\ai\\cv-project-4-smart-cropping\\cropped: True\n",
            "20221226_190822.jpg written to D:\\Projects\\repos\\ai\\cv-project-4-smart-cropping\\cropped: True\n",
            "20221226_190826.jpg written to D:\\Projects\\repos\\ai\\cv-project-4-smart-cropping\\cropped: True\n",
            "20221226_190832.jpg written to D:\\Projects\\repos\\ai\\cv-project-4-smart-cropping\\cropped: True\n",
            "20221226_190835.jpg written to D:\\Projects\\repos\\ai\\cv-project-4-smart-cropping\\cropped: True\n",
            "20221226_190844.jpg written to D:\\Projects\\repos\\ai\\cv-project-4-smart-cropping\\cropped: True\n",
            "20221226_190848.jpg written to D:\\Projects\\repos\\ai\\cv-project-4-smart-cropping\\cropped: True\n",
            "20221226_190857.jpg written to D:\\Projects\\repos\\ai\\cv-project-4-smart-cropping\\cropped: True\n",
            "20221226_190901.jpg written to D:\\Projects\\repos\\ai\\cv-project-4-smart-cropping\\cropped: True\n",
            "20221226_190907.jpg written to D:\\Projects\\repos\\ai\\cv-project-4-smart-cropping\\cropped: True\n",
            "20221226_190911.jpg written to D:\\Projects\\repos\\ai\\cv-project-4-smart-cropping\\cropped: True\n",
            "20221226_190916.jpg written to D:\\Projects\\repos\\ai\\cv-project-4-smart-cropping\\cropped: True\n",
            "20221226_190921.jpg written to D:\\Projects\\repos\\ai\\cv-project-4-smart-cropping\\cropped: True\n",
            "20221226_190928.jpg written to D:\\Projects\\repos\\ai\\cv-project-4-smart-cropping\\cropped: True\n",
            "20221226_190932.jpg written to D:\\Projects\\repos\\ai\\cv-project-4-smart-cropping\\cropped: True\n",
            "20221226_190937.jpg written to D:\\Projects\\repos\\ai\\cv-project-4-smart-cropping\\cropped: True\n",
            "20221226_190939.jpg written to D:\\Projects\\repos\\ai\\cv-project-4-smart-cropping\\cropped: True\n",
            "20221226_190954.jpg written to D:\\Projects\\repos\\ai\\cv-project-4-smart-cropping\\cropped: True\n",
            "20221226_191002.jpg written to D:\\Projects\\repos\\ai\\cv-project-4-smart-cropping\\cropped: True\n",
            "20221226_191008.jpg written to D:\\Projects\\repos\\ai\\cv-project-4-smart-cropping\\cropped: True\n",
            "20221226_191016.jpg written to D:\\Projects\\repos\\ai\\cv-project-4-smart-cropping\\cropped: True\n",
            "20221226_191025.jpg written to D:\\Projects\\repos\\ai\\cv-project-4-smart-cropping\\cropped: True\n",
            "20221226_191052.jpg written to D:\\Projects\\repos\\ai\\cv-project-4-smart-cropping\\cropped: True\n",
            "20221226_191057.jpg written to D:\\Projects\\repos\\ai\\cv-project-4-smart-cropping\\cropped: True\n",
            "20221226_191101.jpg written to D:\\Projects\\repos\\ai\\cv-project-4-smart-cropping\\cropped: True\n",
            "20221226_191112.jpg written to D:\\Projects\\repos\\ai\\cv-project-4-smart-cropping\\cropped: True\n"
          ]
        }
      ],
      "source": [
        "bulkCropImages(input_path)"
      ]
    }
  ],
  "metadata": {
    "colab": {
      "provenance": []
    },
    "kernelspec": {
      "display_name": "venv_cv",
      "language": "python",
      "name": "python3"
    },
    "language_info": {
      "codemirror_mode": {
        "name": "ipython",
        "version": 3
      },
      "file_extension": ".py",
      "mimetype": "text/x-python",
      "name": "python",
      "nbconvert_exporter": "python",
      "pygments_lexer": "ipython3",
      "version": "3.8.10 (tags/v3.8.10:3d8993a, May  3 2021, 11:48:03) [MSC v.1928 64 bit (AMD64)]"
    },
    "vscode": {
      "interpreter": {
        "hash": "d88a793758dbf27148ae057ed02bb8117fca282e6413a76e24712a37f85d2994"
      }
    }
  },
  "nbformat": 4,
  "nbformat_minor": 0
}
