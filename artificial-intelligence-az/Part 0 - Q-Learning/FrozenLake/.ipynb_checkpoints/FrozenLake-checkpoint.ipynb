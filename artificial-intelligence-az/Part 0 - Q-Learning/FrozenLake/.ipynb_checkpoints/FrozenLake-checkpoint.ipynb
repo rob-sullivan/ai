{
 "cells": [
  {
   "cell_type": "markdown",
   "metadata": {},
   "source": [
    "# frozen lake\n",
    "\n",
    "## The Story\n",
    "Winter is here. You and your friends were tossing around a frisbee at the park when you made a wild throw that left the frisbee out in the middle of the lake. The water is mostly frozen, but there are a few holes where the ice has melted. If you step into one of those holes, you'll fall into the freezing water. At this time, there's an international frisbee shortage, so it's absolutely imperative that you navigate across the lake and retrieve the disc. However, the ice is slippery, so you won't always move in the direction you intend.\n",
    "\n",
    "The surface is described using a grid like the following:\n",
    "SFFF       (S: starting point, safe)\n",
    "FHFH       (F: frozen surface, safe)\n",
    "FFFH       (H: hole, fall to your doom)\n",
    "HFFG       (G: goal, where the frisbee is located)\n",
    "\n",
    "The episode ends when you reach the goal or fall in a hole. You receive a reward of 1 if you reach the goal, and zero otherwise.\n",
    "\n",
    "Link: https://gym.openai.com/envs/FrozenLake-v0/"
   ]
  },
  {
   "cell_type": "code",
   "execution_count": 48,
   "metadata": {},
   "outputs": [],
   "source": [
    "## setup\n",
    "import numpy as np\n",
    "import gym\n",
    "import random\n",
    "import time\n",
    "from IPython.display import clear_output\n",
    "import matplotlib.pyplot as plt #to plot a graph"
   ]
  },
  {
   "cell_type": "code",
   "execution_count": 49,
   "metadata": {},
   "outputs": [],
   "source": [
    "# Creating The Environment\n",
    "env = gym.make(\"FrozenLake-v0\")"
   ]
  },
  {
   "cell_type": "code",
   "execution_count": 50,
   "metadata": {},
   "outputs": [
    {
     "name": "stdout",
     "output_type": "stream",
     "text": [
      "\n",
      " Q Table\n",
      "[[0. 0. 0. 0.]\n",
      " [0. 0. 0. 0.]\n",
      " [0. 0. 0. 0.]\n",
      " [0. 0. 0. 0.]\n",
      " [0. 0. 0. 0.]\n",
      " [0. 0. 0. 0.]\n",
      " [0. 0. 0. 0.]\n",
      " [0. 0. 0. 0.]\n",
      " [0. 0. 0. 0.]\n",
      " [0. 0. 0. 0.]\n",
      " [0. 0. 0. 0.]\n",
      " [0. 0. 0. 0.]\n",
      " [0. 0. 0. 0.]\n",
      " [0. 0. 0. 0.]\n",
      " [0. 0. 0. 0.]\n",
      " [0. 0. 0. 0.]]\n"
     ]
    }
   ],
   "source": [
    "# create the Q-Table\n",
    "action_space_size = env.action_space.n\n",
    "state_space_size = env.observation_space.n\n",
    "\n",
    "q_table = np.zeros((state_space_size, action_space_size))\n",
    "\n",
    "#observation types: Discrete, Box, or pixels (which is usually a Box(0, 255, [height, width, 3]) for RGB pixels).\n",
    "\n",
    "\n",
    "print(\"\\n Q Table\")\n",
    "print(q_table) # check all zero'd table"
   ]
  },
  {
   "cell_type": "code",
   "execution_count": 51,
   "metadata": {},
   "outputs": [],
   "source": [
    "# Set learning params\n",
    "num_episodes = 10000\n",
    "max_steps_per_episode = 100\n",
    "\n",
    "learning_rate = 0.1 #alpha\n",
    "discount_rate = 0.99 #gamma\n",
    "\n",
    "#exploration-exploitation (aka epsilon-greedy policy)\n",
    "exploration_rate = 1 #epsilon\n",
    "max_exploration_rate = 1\n",
    "min_exploration_rate = 0.01\n",
    "exploration_decay_rate = 0.001 #was 0.01 but changed after testing"
   ]
  },
  {
   "cell_type": "code",
   "execution_count": 52,
   "metadata": {},
   "outputs": [],
   "source": [
    "# Q-learning algorithm\n",
    "rewards_all_episodes = [] #list to hold our rewards\n",
    "for episode in range(num_episodes):\n",
    "    # initialize new episode params\n",
    "    state = env.reset() #reset the environment back to starting state\n",
    "    done = False #used to tell when episode is finished\n",
    "    rewards_current_episode = 0 #used to track rewards in current episode \n",
    "\n",
    "    for step in range(max_steps_per_episode): \n",
    "        # Exploration-exploitation trade-off\n",
    "        exploration_rate_threshold = random.uniform(0,1) #set to random number\n",
    "        if exploration_rate_threshold > exploration_rate:\n",
    "            action = np.argmax(q_table[state, :])#use the highest Q value in the current state\n",
    "        else:\n",
    "            action = env.action_space.sample()#select a random ation\n",
    "        \n",
    "         # Take new action\n",
    "        #use step to tell the environment an action was taken\n",
    "        #step will return a tuple (info is used if you want to debug)\n",
    "        new_state, reward, done, info = env.step(action)\n",
    "\n",
    "        #Update Q-table\n",
    "        q_table[state,action] = q_table[state, action] * (1 - learning_rate) + learning_rate * (reward + discount_rate * np.max(q_table[new_state, :]))\n",
    "        #Set new state\n",
    "        state = new_state\n",
    "        #Add new reward\n",
    "        rewards_current_episode += reward\n",
    "        if done == True:\n",
    "            break\n",
    "\n",
    "    # Exploration rate decay\n",
    "    #reduce the exploration rate from its current value after each episode\n",
    "    exploration_rate = min_exploration_rate + (max_exploration_rate - min_exploration_rate) * np.exp(-exploration_decay_rate * episode)\n",
    "    # Add current episode reward to total rewards list\n",
    "    rewards_all_episodes.append(rewards_current_episode)"
   ]
  },
  {
   "cell_type": "code",
   "execution_count": 53,
   "metadata": {},
   "outputs": [
    {
     "name": "stdout",
     "output_type": "stream",
     "text": [
      "  (Down)\n",
      "SFFF\n",
      "FHFH\n",
      "FFFH\n",
      "HFF\u001b[41mG\u001b[0m\n",
      "****You're AI reached the goal!****\n"
     ]
    }
   ],
   "source": [
    "#Watch our agent play Frozen Lake by playing the best action \n",
    "#from each state according to the Q-table\n",
    "\n",
    "for episode in range(3):\n",
    "    # initialize new episode params\n",
    "    state = env.reset()\n",
    "    done = False\n",
    "    print(\"****EPISODE \", episode + 1, \"*****\\n\\n\\n\\n\")\n",
    "    time.sleep(1)#we delay so we can see output on screen\n",
    "    for step in range(max_steps_per_episode):\n",
    "        #clear jupyter output and wait until clear\n",
    "        clear_output(wait=True)\n",
    "        # Show current state of environment on screen\n",
    "        env.render()\n",
    "        time.sleep(0.3)\n",
    "        # Choose action with highest Q-value for current state\n",
    "        action = np.argmax(q_table[state, :])\n",
    "        new_state, reward, done, info = env.step(action)\n",
    "        # Take new action\n",
    "\n",
    "        if done:\n",
    "            clear_output(wait=True)#clear juptyer output again\n",
    "            env.render()\n",
    "            if reward == 1:\n",
    "                # Agent reached the goal and won episode\n",
    "                print(\"****You're AI reached the goal!****\")\n",
    "                time.sleep(3)\n",
    "            else:\n",
    "                # Agent stepped in a hole and lost episode\n",
    "                print(\"****You're AI fell through a hole!****\")\n",
    "                time.sleep(3)\n",
    "                clear_output(wait=True)\n",
    "            break\n",
    "        # Set new state\n",
    "        state = new_state\n",
    "env.close()"
   ]
  },
  {
   "cell_type": "code",
   "execution_count": 54,
   "metadata": {},
   "outputs": [
    {
     "name": "stdout",
     "output_type": "stream",
     "text": [
      "********Average reward per 1,000 Episodes********\n",
      "\n",
      "1000 :  0.05000000000000004\n",
      "2000 :  0.18800000000000014\n",
      "3000 :  0.4000000000000003\n",
      "4000 :  0.5760000000000004\n",
      "5000 :  0.6150000000000004\n",
      "6000 :  0.6500000000000005\n",
      "7000 :  0.6480000000000005\n",
      "8000 :  0.7020000000000005\n",
      "9000 :  0.6920000000000005\n",
      "10000 :  0.6860000000000005\n"
     ]
    },
    {
     "data": {
      "image/png": "[encoded data removed]",
      "text/plain": [
       "<Figure size 432x288 with 1 Axes>"
      ]
     },
     "metadata": {
      "needs_background": "light"
     },
     "output_type": "display_data"
    },
    {
     "name": "stdout",
     "output_type": "stream",
     "text": [
      "\n",
      "\n",
      "********Q-Table********\n",
      "\n",
      "[[0.59312113 0.50750643 0.49518554 0.50945652]\n",
      " [0.38598289 0.28320939 0.32965603 0.49529014]\n",
      " [0.43238835 0.39998112 0.43784257 0.44965244]\n",
      " [0.30541962 0.23784829 0.35539103 0.43435882]\n",
      " [0.61448625 0.34944198 0.39034471 0.31741167]\n",
      " [0.         0.         0.         0.        ]\n",
      " [0.19800219 0.1704046  0.30661391 0.08190188]\n",
      " [0.         0.         0.         0.        ]\n",
      " [0.47234016 0.37158883 0.37080606 0.63881392]\n",
      " [0.47847536 0.69307357 0.41981324 0.44773711]\n",
      " [0.66717424 0.42391156 0.30421526 0.34215537]\n",
      " [0.         0.         0.         0.        ]\n",
      " [0.         0.         0.         0.        ]\n",
      " [0.52511774 0.60579016 0.77491761 0.46037652]\n",
      " [0.71896924 0.87644575 0.74761439 0.70687727]\n",
      " [0.         0.         0.         0.        ]]\n"
     ]
    }
   ],
   "source": [
    "# Calculate and print the average reward per 1,000 episodes\n",
    "rewards_per_thosand_episodes = np.split(np.array(rewards_all_episodes), num_episodes/1000)\n",
    "count = 1000\n",
    "plotx = []\n",
    "ploty = []\n",
    "\n",
    "print(\"********Average reward per 1,000 Episodes********\\n\")\n",
    "for r in rewards_per_thosand_episodes:\n",
    "    print(count, \": \", str(sum(r/1000))) #see how our rewards are going after training\n",
    "    plotx.append(count)\n",
    "    ploty.append(sum(r/1000))\n",
    "    count += 1000\n",
    "plt.plot(plotx,ploty)\n",
    "plt.ylabel(\"Rewards\")\n",
    "plt.xlabel(\"Episodes\")\n",
    "plt.show()\n",
    "\n",
    "#print updated Q-table\n",
    "print(\"\\n\\n********Q-Table********\\n\")\n",
    "print(q_table)"
   ]
  },
  {
   "cell_type": "code",
   "execution_count": null,
   "metadata": {},
   "outputs": [],
   "source": []
  },
  {
   "cell_type": "code",
   "execution_count": null,
   "metadata": {},
   "outputs": [],
   "source": []
  },
  {
   "cell_type": "code",
   "execution_count": null,
   "metadata": {},
   "outputs": [],
   "source": []
  }
 ],
 "metadata": {
  "kernelspec": {
   "display_name": "Python 3",
   "language": "python",
   "name": "python3"
  },
  "language_info": {
   "codemirror_mode": {
    "name": "ipython",
    "version": 3
   },
   "file_extension": ".py",
   "mimetype": "text/x-python",
   "name": "python",
   "nbconvert_exporter": "python",
   "pygments_lexer": "ipython3",
   "version": "3.8.5"
  }
 },
 "nbformat": 4,
 "nbformat_minor": 4
}
