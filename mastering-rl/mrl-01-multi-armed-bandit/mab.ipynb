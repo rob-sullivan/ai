{
 "cells": [
  {
   "cell_type": "code",
   "execution_count": null,
   "metadata": {},
   "outputs": [],
   "source": [
    "import numpy as np"
   ]
  },
  {
   "cell_type": "code",
   "execution_count": null,
   "metadata": {},
   "outputs": [],
   "source": [
    "# Class for a single slot machine. Rewards are Gaussian.\n",
    "class GaussianBandit(object):\n",
    "    def __init__(self, mean=0, stdev=1):\n",
    "        self.mean = mean\n",
    "        self.stdev = stdev\n",
    "    \n",
    "    def pull_lever(self):\n",
    "        reward = np.random.normal(self.mean, self.stdev)\n",
    "        return np.round(reward, 1)"
   ]
  },
  {
   "cell_type": "code",
   "execution_count": null,
   "metadata": {},
   "outputs": [],
   "source": [
    "g1 = GaussianBandit(5, 2)\n",
    "g2 = GaussianBandit(6, 2)\n",
    "g3 = GaussianBandit(1, 5)"
   ]
  },
  {
   "cell_type": "code",
   "execution_count": null,
   "metadata": {},
   "outputs": [],
   "source": [
    "g1.pull_lever()"
   ]
  },
  {
   "cell_type": "code",
   "execution_count": null,
   "metadata": {},
   "outputs": [],
   "source": [
    "class GaussianBanditGame(object):\n",
    "    def __init__(self, bandits):\n",
    "        self.bandits = bandits\n",
    "        np.random.shuffle(self.bandits)\n",
    "        self.reset_game()\n",
    "    \n",
    "    def play(self, choice):\n",
    "        reward = self.bandits[choice - 1].pull_lever()\n",
    "        self.rewards.append(reward)\n",
    "        self.total_reward += reward\n",
    "        self.n_played += 1\n",
    "        return reward\n",
    "    \n",
    "    def user_play(self):\n",
    "        self.reset_game()\n",
    "        print(\"Game started. \" + \n",
    "              \"Enter 0 as input to end the game.\")\n",
    "        while True:\n",
    "            print(f\"\\n -- Round {self.n_played}\")\n",
    "            choice = int(input(f\"Choose a machine \" + \n",
    "                     f\"from 1 to {len(self.bandits)}: \"))\n",
    "            if choice in range(1, len(self.bandits) + 1):\n",
    "                reward = self.play(choice)\n",
    "                print(f\"Machine {choice} gave \" + \n",
    "                      f\"a reward of {reward}.\")\n",
    "                avg_rew = self.total_reward/self.n_played\n",
    "                print(f\"Your average reward \" +\n",
    "                      f\"so far is {avg_rew}.\")\n",
    "            else:\n",
    "                break\n",
    "        print(\"Game has ended.\")\n",
    "        if self.n_played > 0:\n",
    "            print(f\"Total reward is {self.total_reward}\" + \n",
    "                  f\" after {self.n_played} round(s).\")\n",
    "            avg_rew = self.total_reward/self.n_played\n",
    "            print(f\"Average reward is {avg_rew}.\")              \n",
    "            \n",
    "    def reset_game(self):\n",
    "        self.rewards = []\n",
    "        self.total_reward = 0\n",
    "        self.n_played = 0"
   ]
  },
  {
   "cell_type": "code",
   "execution_count": null,
   "metadata": {},
   "outputs": [],
   "source": [
    "slotA = GaussianBandit(5, 3)\n",
    "slotB = GaussianBandit(6, 2)\n",
    "slotC = GaussianBandit(1, 5)\n",
    "game = GaussianBanditGame([slotA, slotB, slotC])"
   ]
  },
  {
   "cell_type": "code",
   "execution_count": null,
   "metadata": {
    "scrolled": false
   },
   "outputs": [],
   "source": [
    "game.user_play()"
   ]
  },
  {
   "cell_type": "code",
   "execution_count": null,
   "metadata": {},
   "outputs": [],
   "source": []
  },
  {
   "cell_type": "markdown",
   "metadata": {},
   "source": [
    "# Online Ads"
   ]
  },
  {
   "cell_type": "code",
   "execution_count": null,
   "metadata": {},
   "outputs": [],
   "source": [
    "class BernoulliBandit(object):\n",
    "    def __init__(self, p):\n",
    "        self.p = p\n",
    "    \n",
    "    def display_ad(self):\n",
    "        reward = np.random.binomial(n=1, p=self.p)\n",
    "        return reward"
   ]
  },
  {
   "cell_type": "code",
   "execution_count": null,
   "metadata": {},
   "outputs": [],
   "source": [
    "adA = BernoulliBandit(0.004)\n",
    "adB = BernoulliBandit(0.016)\n",
    "adC = BernoulliBandit(0.02)\n",
    "adD = BernoulliBandit(0.028)\n",
    "adE = BernoulliBandit(0.031)"
   ]
  },
  {
   "cell_type": "code",
   "execution_count": null,
   "metadata": {},
   "outputs": [],
   "source": [
    "ads = [adA, adB, adC, adD, adE]"
   ]
  },
  {
   "cell_type": "markdown",
   "metadata": {},
   "source": [
    "## A/B"
   ]
  },
  {
   "cell_type": "code",
   "execution_count": null,
   "metadata": {},
   "outputs": [],
   "source": [
    "n_test = 10000\n",
    "n_prod = 90000\n",
    "n_ads = len(ads)\n",
    "Q = np.zeros(n_ads)  # Q, action values\n",
    "N = np.zeros(n_ads)  # N, total impressions\n",
    "total_reward = 0\n",
    "avg_rewards = []  # Save average rewards over time"
   ]
  },
  {
   "cell_type": "code",
   "execution_count": null,
   "metadata": {},
   "outputs": [],
   "source": [
    "# A/B/n test\n",
    "for i in range(n_test):\n",
    "    ad_chosen = np.random.randint(n_ads)\n",
    "    R = ads[ad_chosen].display_ad()  # Observe reward\n",
    "    N[ad_chosen] += 1\n",
    "    Q[ad_chosen] += (1 / N[ad_chosen]) * (R - Q[ad_chosen])\n",
    "    total_reward += R\n",
    "    avg_reward_so_far = total_reward / (i + 1)\n",
    "    avg_rewards.append(avg_reward_so_far)"
   ]
  },
  {
   "cell_type": "code",
   "execution_count": null,
   "metadata": {},
   "outputs": [],
   "source": [
    "best_ad_index = np.argmax(Q)  # Find the best action\n",
    "print(\"The best performing ad is {}\".format(chr(ord('A') + best_ad_index)))"
   ]
  },
  {
   "cell_type": "code",
   "execution_count": null,
   "metadata": {},
   "outputs": [],
   "source": [
    "ad_chosen = best_ad_index\n",
    "for i in range(n_prod):\n",
    "    R = ads[ad_chosen].display_ad()\n",
    "    total_reward += R\n",
    "    avg_reward_so_far = total_reward / (n_test + i + 1)\n",
    "    avg_rewards.append(avg_reward_so_far)"
   ]
  },
  {
   "cell_type": "code",
   "execution_count": null,
   "metadata": {},
   "outputs": [],
   "source": [
    "import pandas as pd\n",
    "df_reward_comparison = pd.DataFrame(avg_rewards, columns=['A/B/n'])"
   ]
  },
  {
   "cell_type": "code",
   "execution_count": null,
   "metadata": {},
   "outputs": [],
   "source": [
    "import cufflinks as cf\n",
    "import plotly.offline\n",
    "cf.go_offline()\n",
    "cf.set_config_file(world_readable=True, theme=\"white\")\n",
    "\n",
    "df_reward_comparison['A/B/n'].iplot(title=\"A/B/n Test Avg. Reward: {:.4f}\"\n",
    "                                    .format(avg_reward_so_far),\n",
    "                                    xTitle='Impressions', \n",
    "                                    yTitle='Avg. Reward')"
   ]
  },
  {
   "cell_type": "code",
   "execution_count": null,
   "metadata": {},
   "outputs": [],
   "source": []
  },
  {
   "cell_type": "code",
   "execution_count": null,
   "metadata": {},
   "outputs": [],
   "source": []
  },
  {
   "cell_type": "code",
   "execution_count": null,
   "metadata": {},
   "outputs": [],
   "source": []
  },
  {
   "cell_type": "markdown",
   "metadata": {},
   "source": [
    "## eps greedy"
   ]
  },
  {
   "cell_type": "code",
   "execution_count": null,
   "metadata": {},
   "outputs": [],
   "source": [
    "eps = 0.1\n",
    "n_prod = 100000\n",
    "n_ads = len(ads)\n",
    "Q = np.zeros(n_ads)\n",
    "N = np.zeros(n_ads)\n",
    "total_reward = 0\n",
    "avg_rewards = []"
   ]
  },
  {
   "cell_type": "code",
   "execution_count": null,
   "metadata": {},
   "outputs": [],
   "source": [
    "ad_chosen = np.random.randint(n_ads)\n",
    "for i in range(n_prod):\n",
    "    R = ads[ad_chosen].display_ad()\n",
    "    N[ad_chosen] += 1\n",
    "    Q[ad_chosen] += (1 / N[ad_chosen]) * (R - Q[ad_chosen])\n",
    "    total_reward += R\n",
    "    avg_reward_so_far = total_reward / (i + 1)\n",
    "    avg_rewards.append(avg_reward_so_far)\n",
    "    \n",
    "    # Select the next ad to display\n",
    "    if np.random.uniform() <= eps:\n",
    "        ad_chosen = np.random.randint(n_ads)\n",
    "    else:\n",
    "        ad_chosen = np.argmax(Q)\n",
    "\n",
    "df_reward_comparison['e-greedy: {}'.format(eps)] = avg_rewards"
   ]
  },
  {
   "cell_type": "code",
   "execution_count": null,
   "metadata": {},
   "outputs": [],
   "source": [
    "greedy_list = [ 'e-greedy: 0.1']\n",
    "df_reward_comparison[greedy_list].iplot(title=\"ε-Greedy Actions\",\n",
    "                                    dash = ['solid'], #, 'dash', 'dashdot', 'dot'],\n",
    "                                    xTitle='Impressions', \n",
    "                                    yTitle='Avg. Reward')"
   ]
  },
  {
   "cell_type": "code",
   "execution_count": null,
   "metadata": {},
   "outputs": [],
   "source": []
  },
  {
   "cell_type": "code",
   "execution_count": null,
   "metadata": {},
   "outputs": [],
   "source": []
  },
  {
   "cell_type": "markdown",
   "metadata": {},
   "source": [
    "## UCB"
   ]
  },
  {
   "cell_type": "code",
   "execution_count": null,
   "metadata": {},
   "outputs": [],
   "source": [
    "c = 0.1\n",
    "n_prod = 100000\n",
    "n_ads = len(ads)\n",
    "ad_indices = np.array(range(n_ads))\n",
    "Q = np.zeros(n_ads)\n",
    "N = np.zeros(n_ads)\n",
    "total_reward = 0\n",
    "avg_rewards = []"
   ]
  },
  {
   "cell_type": "code",
   "execution_count": null,
   "metadata": {},
   "outputs": [],
   "source": [
    "for t in range(1, n_prod + 1):\n",
    "    if any(N==0):\n",
    "        ad_chosen = np.random.choice(ad_indices[N==0])\n",
    "    else:\n",
    "        uncertainty = np.sqrt(np.log(t) / N)\n",
    "        ad_chosen = np.argmax(Q +  c * uncertainty)\n",
    "        \n",
    "    R = ads[ad_chosen].display_ad()\n",
    "    N[ad_chosen] += 1\n",
    "    Q[ad_chosen] += (1 / N[ad_chosen]) * (R - Q[ad_chosen])\n",
    "    total_reward += R\n",
    "    avg_reward_so_far = total_reward / t\n",
    "    avg_rewards.append(avg_reward_so_far)\n",
    "    \n",
    "df_reward_comparison['UCB, c={}'.format(c)] = avg_rewards"
   ]
  },
  {
   "cell_type": "code",
   "execution_count": null,
   "metadata": {
    "scrolled": false
   },
   "outputs": [],
   "source": [
    "# Need to run UCB with the specified values or modify the ucb_list to what you have.\n",
    "ucb_list = ['UCB, c=0.1', 'UCB, c=1', 'UCB, c=10']\n",
    "best_reward = df_reward_comparison.loc[t-1,ucb_list].max()\n",
    "df_reward_comparison[ucb_list].iplot(title=\"Action Selection using UCB. Best avg. reward: {:.4f}\"\n",
    "                                    .format(best_reward),\n",
    "                                    dash = ['solid', 'dash', 'dashdot'],\n",
    "                                    xTitle='Impressions', \n",
    "                                    yTitle='Avg. Reward')"
   ]
  },
  {
   "cell_type": "markdown",
   "metadata": {},
   "source": [
    "## TS"
   ]
  },
  {
   "cell_type": "code",
   "execution_count": null,
   "metadata": {},
   "outputs": [],
   "source": [
    "n_prod = 100000\n",
    "n_ads = len(ads)\n",
    "alphas = np.ones(n_ads)\n",
    "betas = np.ones(n_ads)\n",
    "total_reward = 0\n",
    "avg_rewards = []"
   ]
  },
  {
   "cell_type": "code",
   "execution_count": null,
   "metadata": {},
   "outputs": [],
   "source": [
    "for i in range(n_prod):\n",
    "    theta_samples = [np.random.beta(alphas[k], betas[k]) for k in range(n_ads)]\n",
    "    ad_chosen = np.argmax(theta_samples)\n",
    "    R = ads[ad_chosen].display_ad()\n",
    "    alphas[ad_chosen] += R\n",
    "    betas[ad_chosen] += 1 - R\n",
    "    total_reward += R\n",
    "    avg_reward_so_far = total_reward / (i + 1)\n",
    "    avg_rewards.append(avg_reward_so_far)\n",
    "df_reward_comparison['Thompson Sampling'] = avg_rewards"
   ]
  },
  {
   "cell_type": "code",
   "execution_count": null,
   "metadata": {},
   "outputs": [],
   "source": [
    "df_reward_comparison['Thompson Sampling'].iplot(title=\"Thompson Sampling Avg. Reward: {:.4f}\"\n",
    "                                    .format(avg_reward_so_far),\n",
    "                                    xTitle='Impressions', \n",
    "                                    yTitle='Avg. Reward')"
   ]
  },
  {
   "cell_type": "code",
   "execution_count": null,
   "metadata": {},
   "outputs": [],
   "source": []
  }
 ],
 "metadata": {
  "kernelspec": {
   "display_name": "rlenv2",
   "language": "python",
   "name": "rlenv2"
  },
  "language_info": {
   "codemirror_mode": {
    "name": "ipython",
    "version": 3
   },
   "file_extension": ".py",
   "mimetype": "text/x-python",
   "name": "python",
   "nbconvert_exporter": "python",
   "pygments_lexer": "ipython3",
   "version": "3.7.4"
  }
 },
 "nbformat": 4,
 "nbformat_minor": 2
}
