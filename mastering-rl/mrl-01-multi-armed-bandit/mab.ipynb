{
 "cells": [
  {
   "cell_type": "code",
   "execution_count": 1,
   "metadata": {},
   "outputs": [],
   "source": [
    "import numpy as np"
   ]
  },
  {
   "cell_type": "code",
   "execution_count": 2,
   "metadata": {},
   "outputs": [],
   "source": [
    "# Class for a single slot machine. Rewards are Gaussian.\n",
    "class GaussianBandit(object):\n",
    "    def __init__(self, mean=0, stdev=1):\n",
    "        self.mean = mean\n",
    "        self.stdev = stdev\n",
    "    \n",
    "    def pull_lever(self):\n",
    "        reward = np.random.normal(self.mean, self.stdev)\n",
    "        return np.round(reward, 1)"
   ]
  },
  {
   "cell_type": "code",
   "execution_count": 3,
   "metadata": {},
   "outputs": [],
   "source": [
    "g1 = GaussianBandit(5, 2)\n",
    "g2 = GaussianBandit(6, 2)\n",
    "g3 = GaussianBandit(1, 5)"
   ]
  },
  {
   "cell_type": "code",
   "execution_count": 4,
   "metadata": {},
   "outputs": [
    {
     "data": {
      "text/plain": [
       "7.1"
      ]
     },
     "execution_count": 4,
     "metadata": {},
     "output_type": "execute_result"
    }
   ],
   "source": [
    "g1.pull_lever()"
   ]
  },
  {
   "cell_type": "code",
   "execution_count": 5,
   "metadata": {},
   "outputs": [],
   "source": [
    "class GaussianBanditGame(object):\n",
    "    def __init__(self, bandits):\n",
    "        self.bandits = bandits\n",
    "        np.random.shuffle(self.bandits)\n",
    "        self.reset_game()\n",
    "    \n",
    "    def play(self, choice):\n",
    "        reward = self.bandits[choice - 1].pull_lever()\n",
    "        self.rewards.append(reward)\n",
    "        self.total_reward += reward\n",
    "        self.n_played += 1\n",
    "        return reward\n",
    "    \n",
    "    def user_play(self):\n",
    "        self.reset_game()\n",
    "        print(\"Game started. \" + \n",
    "              \"Enter 0 as input to end the game.\")\n",
    "        while True:\n",
    "            print(f\"\\n -- Round {self.n_played}\")\n",
    "            choice = int(input(f\"Choose a machine \" + \n",
    "                     f\"from 1 to {len(self.bandits)}: \"))\n",
    "            if choice in range(1, len(self.bandits) + 1):\n",
    "                reward = self.play(choice)\n",
    "                print(f\"Machine {choice} gave \" + \n",
    "                      f\"a reward of {reward}.\")\n",
    "                avg_rew = self.total_reward/self.n_played\n",
    "                print(f\"Your average reward \" +\n",
    "                      f\"so far is {avg_rew}.\")\n",
    "            else:\n",
    "                break\n",
    "        print(\"Game has ended.\")\n",
    "        if self.n_played > 0:\n",
    "            print(f\"Total reward is {self.total_reward}\" + \n",
    "                  f\" after {self.n_played} round(s).\")\n",
    "            avg_rew = self.total_reward/self.n_played\n",
    "            print(f\"Average reward is {avg_rew}.\")              \n",
    "            \n",
    "    def reset_game(self):\n",
    "        self.rewards = []\n",
    "        self.total_reward = 0\n",
    "        self.n_played = 0"
   ]
  },
  {
   "cell_type": "code",
   "execution_count": 6,
   "metadata": {},
   "outputs": [],
   "source": [
    "slotA = GaussianBandit(5, 3)\n",
    "slotB = GaussianBandit(6, 2)\n",
    "slotC = GaussianBandit(1, 5)\n",
    "game = GaussianBanditGame([slotA, slotB, slotC])"
   ]
  },
  {
   "cell_type": "code",
   "execution_count": 7,
   "metadata": {
    "scrolled": false
   },
   "outputs": [
    {
     "name": "stdout",
     "output_type": "stream",
     "text": [
      "Game started. Enter 0 as input to end the game.\n",
      "\n",
      " -- Round 0\n",
      "Machine 1 gave a reward of 2.3.\n",
      "Your average reward so far is 2.3.\n",
      "\n",
      " -- Round 1\n",
      "Machine 2 gave a reward of 10.0.\n",
      "Your average reward so far is 6.15.\n",
      "\n",
      " -- Round 2\n",
      "Machine 3 gave a reward of 0.9.\n",
      "Your average reward so far is 4.4.\n",
      "\n",
      " -- Round 3\n",
      "Game has ended.\n",
      "Total reward is 13.200000000000001 after 3 round(s).\n",
      "Average reward is 4.4.\n"
     ]
    }
   ],
   "source": [
    "game.user_play()"
   ]
  },
  {
   "cell_type": "code",
   "execution_count": null,
   "metadata": {},
   "outputs": [],
   "source": []
  },
  {
   "cell_type": "markdown",
   "metadata": {},
   "source": [
    "# Online Ads"
   ]
  },
  {
   "cell_type": "code",
   "execution_count": 8,
   "metadata": {},
   "outputs": [],
   "source": [
    "class BernoulliBandit(object):\n",
    "    def __init__(self, p):\n",
    "        self.p = p\n",
    "    \n",
    "    def display_ad(self):\n",
    "        reward = np.random.binomial(n=1, p=self.p)\n",
    "        return reward"
   ]
  },
  {
   "cell_type": "code",
   "execution_count": 9,
   "metadata": {},
   "outputs": [],
   "source": [
    "adA = BernoulliBandit(0.004)\n",
    "adB = BernoulliBandit(0.016)\n",
    "adC = BernoulliBandit(0.02)\n",
    "adD = BernoulliBandit(0.028)\n",
    "adE = BernoulliBandit(0.031)"
   ]
  },
  {
   "cell_type": "code",
   "execution_count": 10,
   "metadata": {},
   "outputs": [],
   "source": [
    "ads = [adA, adB, adC, adD, adE]"
   ]
  },
  {
   "cell_type": "markdown",
   "metadata": {},
   "source": [
    "## A/B"
   ]
  },
  {
   "cell_type": "code",
   "execution_count": 11,
   "metadata": {},
   "outputs": [],
   "source": [
    "n_test = 10000\n",
    "n_prod = 90000\n",
    "n_ads = len(ads)\n",
    "Q = np.zeros(n_ads)  # Q, action values\n",
    "N = np.zeros(n_ads)  # N, total impressions\n",
    "total_reward = 0\n",
    "avg_rewards = []  # Save average rewards over time"
   ]
  },
  {
   "cell_type": "code",
   "execution_count": 12,
   "metadata": {},
   "outputs": [],
   "source": [
    "# A/B/n test\n",
    "for i in range(n_test):\n",
    "    ad_chosen = np.random.randint(n_ads)\n",
    "    R = ads[ad_chosen].display_ad()  # Observe reward\n",
    "    N[ad_chosen] += 1\n",
    "    Q[ad_chosen] += (1 / N[ad_chosen]) * (R - Q[ad_chosen])\n",
    "    total_reward += R\n",
    "    avg_reward_so_far = total_reward / (i + 1)\n",
    "    avg_rewards.append(avg_reward_so_far)"
   ]
  },
  {
   "cell_type": "code",
   "execution_count": 13,
   "metadata": {},
   "outputs": [
    {
     "name": "stdout",
     "output_type": "stream",
     "text": [
      "The best performing ad is E\n"
     ]
    }
   ],
   "source": [
    "best_ad_index = np.argmax(Q)  # Find the best action\n",
    "print(\"The best performing ad is {}\".format(chr(ord('A') + best_ad_index)))"
   ]
  },
  {
   "cell_type": "code",
   "execution_count": 14,
   "metadata": {},
   "outputs": [],
   "source": [
    "ad_chosen = best_ad_index\n",
    "for i in range(n_prod):\n",
    "    R = ads[ad_chosen].display_ad()\n",
    "    total_reward += R\n",
    "    avg_reward_so_far = total_reward / (n_test + i + 1)\n",
    "    avg_rewards.append(avg_reward_so_far)"
   ]
  },
  {
   "cell_type": "code",
   "execution_count": 15,
   "metadata": {},
   "outputs": [],
   "source": [
    "import pandas as pd\n",
    "df_reward_comparison = pd.DataFrame(avg_rewards, columns=['A/B/n'])"
   ]
  },
  {
   "cell_type": "code",
   "execution_count": 18,
   "metadata": {},
   "outputs": [
    {
     "data": {
      "text/html": [
       "        <script type=\"text/javascript\">\n",
       "        window.PlotlyConfig = {MathJaxConfig: 'local'};\n",
       "        if (window.MathJax && window.MathJax.Hub && window.MathJax.Hub.Config) {window.MathJax.Hub.Config({SVG: {font: \"STIX-Web\"}});}\n",
       "        if (typeof require !== 'undefined') {\n",
       "        require.undef(\"plotly\");\n",
       "        requirejs.config({\n",
       "            paths: {\n",
       "                'plotly': ['https://cdn.plot.ly/plotly-2.16.1.min']\n",
       "            }\n",
       "        });\n",
       "        require(['plotly'], function(Plotly) {\n",
       "            window._Plotly = Plotly;\n",
       "        });\n",
       "        }\n",
       "        </script>\n",
       "        "
      ]
     },
     "metadata": {},
     "output_type": "display_data"
    },
    {
     "ename": "ValueError",
     "evalue": "Mime type rendering requires nbformat>=4.2.0 but it is not installed",
     "output_type": "error",
     "traceback": [
      "\u001b[1;31m---------------------------------------------------------------------------\u001b[0m",
      "\u001b[1;31mValueError\u001b[0m                                Traceback (most recent call last)",
      "Cell \u001b[1;32mIn[18], line 6\u001b[0m\n\u001b[0;32m      3\u001b[0m cf\u001b[39m.\u001b[39mgo_offline()\n\u001b[0;32m      4\u001b[0m cf\u001b[39m.\u001b[39mset_config_file(world_readable\u001b[39m=\u001b[39m\u001b[39mTrue\u001b[39;00m, theme\u001b[39m=\u001b[39m\u001b[39m\"\u001b[39m\u001b[39mwhite\u001b[39m\u001b[39m\"\u001b[39m)\n\u001b[1;32m----> 6\u001b[0m df_reward_comparison[\u001b[39m'\u001b[39;49m\u001b[39mA/B/n\u001b[39;49m\u001b[39m'\u001b[39;49m]\u001b[39m.\u001b[39;49miplot(title\u001b[39m=\u001b[39;49m\u001b[39m\"\u001b[39;49m\u001b[39mA/B/n Test Avg. Reward: \u001b[39;49m\u001b[39m{:.4f}\u001b[39;49;00m\u001b[39m\"\u001b[39;49m\n\u001b[0;32m      7\u001b[0m                                     \u001b[39m.\u001b[39;49mformat(avg_reward_so_far),\n\u001b[0;32m      8\u001b[0m                                     xTitle\u001b[39m=\u001b[39;49m\u001b[39m'\u001b[39;49m\u001b[39mImpressions\u001b[39;49m\u001b[39m'\u001b[39;49m, \n\u001b[0;32m      9\u001b[0m                                     yTitle\u001b[39m=\u001b[39;49m\u001b[39m'\u001b[39;49m\u001b[39mAvg. Reward\u001b[39;49m\u001b[39m'\u001b[39;49m)\n",
      "File \u001b[1;32md:\\Projects\\repos\\ai\\venv_mrl\\lib\\site-packages\\cufflinks\\plotlytools.py:1216\u001b[0m, in \u001b[0;36m_iplot\u001b[1;34m(self, kind, data, layout, filename, sharing, title, xTitle, yTitle, zTitle, theme, colors, colorscale, fill, width, dash, mode, interpolation, symbol, size, barmode, sortbars, bargap, bargroupgap, bins, histnorm, histfunc, orientation, boxpoints, annotations, keys, bestfit, bestfit_colors, mean, mean_colors, categories, x, y, z, text, gridcolor, zerolinecolor, margin, labels, values, secondary_y, secondary_y_title, subplots, shape, error_x, error_y, error_type, locations, lon, lat, asFrame, asDates, asFigure, asImage, dimensions, asPlot, asUrl, online, **kwargs)\u001b[0m\n\u001b[0;32m   1214\u001b[0m \t\u001b[39mreturn\u001b[39;00m Figure(figure)\n\u001b[0;32m   1215\u001b[0m \u001b[39melse\u001b[39;00m:\n\u001b[1;32m-> 1216\u001b[0m \t\u001b[39mreturn\u001b[39;00m iplot(figure,validate\u001b[39m=\u001b[39;49mvalidate,sharing\u001b[39m=\u001b[39;49msharing,filename\u001b[39m=\u001b[39;49mfilename,\n\u001b[0;32m   1217\u001b[0m \t\t online\u001b[39m=\u001b[39;49monline,asImage\u001b[39m=\u001b[39;49masImage,asUrl\u001b[39m=\u001b[39;49masUrl,asPlot\u001b[39m=\u001b[39;49masPlot,\n\u001b[0;32m   1218\u001b[0m \t\t dimensions\u001b[39m=\u001b[39;49mdimensions,display_image\u001b[39m=\u001b[39;49mkwargs\u001b[39m.\u001b[39;49mget(\u001b[39m'\u001b[39;49m\u001b[39mdisplay_image\u001b[39;49m\u001b[39m'\u001b[39;49m,\u001b[39mTrue\u001b[39;49;00m))\n",
      "File \u001b[1;32md:\\Projects\\repos\\ai\\venv_mrl\\lib\\site-packages\\cufflinks\\plotlytools.py:1468\u001b[0m, in \u001b[0;36miplot\u001b[1;34m(figure, validate, sharing, filename, online, asImage, asUrl, asPlot, dimensions, display_image, **kwargs)\u001b[0m\n\u001b[0;32m   1466\u001b[0m \u001b[39m## iplot\u001b[39;00m\n\u001b[0;32m   1467\u001b[0m \u001b[39mif\u001b[39;00m offline\u001b[39m.\u001b[39mis_offline() \u001b[39mand\u001b[39;00m \u001b[39mnot\u001b[39;00m online:\t\n\u001b[1;32m-> 1468\u001b[0m \t\u001b[39mreturn\u001b[39;00m offline\u001b[39m.\u001b[39;49mpy_offline\u001b[39m.\u001b[39;49miplot(figure, validate\u001b[39m=\u001b[39;49mvalidate, filename\u001b[39m=\u001b[39;49mfilename, show_link\u001b[39m=\u001b[39;49mshow_link, link_text\u001b[39m=\u001b[39;49mlink_text, config\u001b[39m=\u001b[39;49mconfig)\n\u001b[0;32m   1469\u001b[0m \u001b[39melse\u001b[39;00m:\t\t\n\u001b[0;32m   1470\u001b[0m \t\u001b[39mreturn\u001b[39;00m py\u001b[39m.\u001b[39miplot(figure,validate\u001b[39m=\u001b[39mvalidate,sharing\u001b[39m=\u001b[39msharing,\n\u001b[0;32m   1471\u001b[0m \t\t\t\t\tfilename\u001b[39m=\u001b[39mfilename)\n",
      "File \u001b[1;32md:\\Projects\\repos\\ai\\venv_mrl\\lib\\site-packages\\plotly\\offline\\offline.py:392\u001b[0m, in \u001b[0;36miplot\u001b[1;34m(figure_or_data, show_link, link_text, validate, image, filename, image_width, image_height, config, auto_play, animation_opts)\u001b[0m\n\u001b[0;32m    387\u001b[0m post_script \u001b[39m=\u001b[39m build_save_image_post_script(\n\u001b[0;32m    388\u001b[0m     image, filename, image_height, image_width, \u001b[39m\"\u001b[39m\u001b[39miplot\u001b[39m\u001b[39m\"\u001b[39m\n\u001b[0;32m    389\u001b[0m )\n\u001b[0;32m    391\u001b[0m \u001b[39m# Show figure\u001b[39;00m\n\u001b[1;32m--> 392\u001b[0m pio\u001b[39m.\u001b[39;49mshow(\n\u001b[0;32m    393\u001b[0m     figure,\n\u001b[0;32m    394\u001b[0m     validate\u001b[39m=\u001b[39;49mvalidate,\n\u001b[0;32m    395\u001b[0m     config\u001b[39m=\u001b[39;49mconfig,\n\u001b[0;32m    396\u001b[0m     auto_play\u001b[39m=\u001b[39;49mauto_play,\n\u001b[0;32m    397\u001b[0m     post_script\u001b[39m=\u001b[39;49mpost_script,\n\u001b[0;32m    398\u001b[0m     animation_opts\u001b[39m=\u001b[39;49manimation_opts,\n\u001b[0;32m    399\u001b[0m )\n",
      "File \u001b[1;32md:\\Projects\\repos\\ai\\venv_mrl\\lib\\site-packages\\plotly\\io\\_renderers.py:396\u001b[0m, in \u001b[0;36mshow\u001b[1;34m(fig, renderer, validate, **kwargs)\u001b[0m\n\u001b[0;32m    391\u001b[0m         \u001b[39mraise\u001b[39;00m \u001b[39mValueError\u001b[39;00m(\n\u001b[0;32m    392\u001b[0m             \u001b[39m\"\u001b[39m\u001b[39mMime type rendering requires ipython but it is not installed\u001b[39m\u001b[39m\"\u001b[39m\n\u001b[0;32m    393\u001b[0m         )\n\u001b[0;32m    395\u001b[0m     \u001b[39mif\u001b[39;00m \u001b[39mnot\u001b[39;00m nbformat \u001b[39mor\u001b[39;00m LooseVersion(nbformat\u001b[39m.\u001b[39m__version__) \u001b[39m<\u001b[39m LooseVersion(\u001b[39m\"\u001b[39m\u001b[39m4.2.0\u001b[39m\u001b[39m\"\u001b[39m):\n\u001b[1;32m--> 396\u001b[0m         \u001b[39mraise\u001b[39;00m \u001b[39mValueError\u001b[39;00m(\n\u001b[0;32m    397\u001b[0m             \u001b[39m\"\u001b[39m\u001b[39mMime type rendering requires nbformat>=4.2.0 but it is not installed\u001b[39m\u001b[39m\"\u001b[39m\n\u001b[0;32m    398\u001b[0m         )\n\u001b[0;32m    400\u001b[0m     ipython_display\u001b[39m.\u001b[39mdisplay(bundle, raw\u001b[39m=\u001b[39m\u001b[39mTrue\u001b[39;00m)\n\u001b[0;32m    402\u001b[0m \u001b[39m# external renderers\u001b[39;00m\n",
      "\u001b[1;31mValueError\u001b[0m: Mime type rendering requires nbformat>=4.2.0 but it is not installed"
     ]
    }
   ],
   "source": [
    "import cufflinks as cf\n",
    "import plotly.offline\n",
    "cf.go_offline()\n",
    "cf.set_config_file(world_readable=True, theme=\"white\")\n",
    "\n",
    "df_reward_comparison['A/B/n'].iplot(title=\"A/B/n Test Avg. Reward: {:.4f}\"\n",
    "                                    .format(avg_reward_so_far),\n",
    "                                    xTitle='Impressions', \n",
    "                                    yTitle='Avg. Reward')"
   ]
  },
  {
   "cell_type": "code",
   "execution_count": null,
   "metadata": {},
   "outputs": [],
   "source": []
  },
  {
   "cell_type": "code",
   "execution_count": null,
   "metadata": {},
   "outputs": [],
   "source": []
  },
  {
   "cell_type": "code",
   "execution_count": null,
   "metadata": {},
   "outputs": [],
   "source": []
  },
  {
   "cell_type": "markdown",
   "metadata": {},
   "source": [
    "## eps greedy"
   ]
  },
  {
   "cell_type": "code",
   "execution_count": null,
   "metadata": {},
   "outputs": [],
   "source": [
    "eps = 0.1\n",
    "n_prod = 100000\n",
    "n_ads = len(ads)\n",
    "Q = np.zeros(n_ads)\n",
    "N = np.zeros(n_ads)\n",
    "total_reward = 0\n",
    "avg_rewards = []"
   ]
  },
  {
   "cell_type": "code",
   "execution_count": null,
   "metadata": {},
   "outputs": [],
   "source": [
    "ad_chosen = np.random.randint(n_ads)\n",
    "for i in range(n_prod):\n",
    "    R = ads[ad_chosen].display_ad()\n",
    "    N[ad_chosen] += 1\n",
    "    Q[ad_chosen] += (1 / N[ad_chosen]) * (R - Q[ad_chosen])\n",
    "    total_reward += R\n",
    "    avg_reward_so_far = total_reward / (i + 1)\n",
    "    avg_rewards.append(avg_reward_so_far)\n",
    "    \n",
    "    # Select the next ad to display\n",
    "    if np.random.uniform() <= eps:\n",
    "        ad_chosen = np.random.randint(n_ads)\n",
    "    else:\n",
    "        ad_chosen = np.argmax(Q)\n",
    "\n",
    "df_reward_comparison['e-greedy: {}'.format(eps)] = avg_rewards"
   ]
  },
  {
   "cell_type": "code",
   "execution_count": null,
   "metadata": {},
   "outputs": [],
   "source": [
    "greedy_list = [ 'e-greedy: 0.1']\n",
    "df_reward_comparison[greedy_list].iplot(title=\"ε-Greedy Actions\",\n",
    "                                    dash = ['solid'], #, 'dash', 'dashdot', 'dot'],\n",
    "                                    xTitle='Impressions', \n",
    "                                    yTitle='Avg. Reward')"
   ]
  },
  {
   "cell_type": "code",
   "execution_count": null,
   "metadata": {},
   "outputs": [],
   "source": []
  },
  {
   "cell_type": "code",
   "execution_count": null,
   "metadata": {},
   "outputs": [],
   "source": []
  },
  {
   "cell_type": "markdown",
   "metadata": {},
   "source": [
    "## UCB"
   ]
  },
  {
   "cell_type": "code",
   "execution_count": null,
   "metadata": {},
   "outputs": [],
   "source": [
    "c = 0.1\n",
    "n_prod = 100000\n",
    "n_ads = len(ads)\n",
    "ad_indices = np.array(range(n_ads))\n",
    "Q = np.zeros(n_ads)\n",
    "N = np.zeros(n_ads)\n",
    "total_reward = 0\n",
    "avg_rewards = []"
   ]
  },
  {
   "cell_type": "code",
   "execution_count": null,
   "metadata": {},
   "outputs": [],
   "source": [
    "for t in range(1, n_prod + 1):\n",
    "    if any(N==0):\n",
    "        ad_chosen = np.random.choice(ad_indices[N==0])\n",
    "    else:\n",
    "        uncertainty = np.sqrt(np.log(t) / N)\n",
    "        ad_chosen = np.argmax(Q +  c * uncertainty)\n",
    "        \n",
    "    R = ads[ad_chosen].display_ad()\n",
    "    N[ad_chosen] += 1\n",
    "    Q[ad_chosen] += (1 / N[ad_chosen]) * (R - Q[ad_chosen])\n",
    "    total_reward += R\n",
    "    avg_reward_so_far = total_reward / t\n",
    "    avg_rewards.append(avg_reward_so_far)\n",
    "    \n",
    "df_reward_comparison['UCB, c={}'.format(c)] = avg_rewards"
   ]
  },
  {
   "cell_type": "code",
   "execution_count": null,
   "metadata": {
    "scrolled": false
   },
   "outputs": [],
   "source": [
    "# Need to run UCB with the specified values or modify the ucb_list to what you have.\n",
    "ucb_list = ['UCB, c=0.1', 'UCB, c=1', 'UCB, c=10']\n",
    "best_reward = df_reward_comparison.loc[t-1,ucb_list].max()\n",
    "df_reward_comparison[ucb_list].iplot(title=\"Action Selection using UCB. Best avg. reward: {:.4f}\"\n",
    "                                    .format(best_reward),\n",
    "                                    dash = ['solid', 'dash', 'dashdot'],\n",
    "                                    xTitle='Impressions', \n",
    "                                    yTitle='Avg. Reward')"
   ]
  },
  {
   "cell_type": "markdown",
   "metadata": {},
   "source": [
    "## TS"
   ]
  },
  {
   "cell_type": "code",
   "execution_count": null,
   "metadata": {},
   "outputs": [],
   "source": [
    "n_prod = 100000\n",
    "n_ads = len(ads)\n",
    "alphas = np.ones(n_ads)\n",
    "betas = np.ones(n_ads)\n",
    "total_reward = 0\n",
    "avg_rewards = []"
   ]
  },
  {
   "cell_type": "code",
   "execution_count": null,
   "metadata": {},
   "outputs": [],
   "source": [
    "for i in range(n_prod):\n",
    "    theta_samples = [np.random.beta(alphas[k], betas[k]) for k in range(n_ads)]\n",
    "    ad_chosen = np.argmax(theta_samples)\n",
    "    R = ads[ad_chosen].display_ad()\n",
    "    alphas[ad_chosen] += R\n",
    "    betas[ad_chosen] += 1 - R\n",
    "    total_reward += R\n",
    "    avg_reward_so_far = total_reward / (i + 1)\n",
    "    avg_rewards.append(avg_reward_so_far)\n",
    "df_reward_comparison['Thompson Sampling'] = avg_rewards"
   ]
  },
  {
   "cell_type": "code",
   "execution_count": null,
   "metadata": {},
   "outputs": [],
   "source": [
    "df_reward_comparison['Thompson Sampling'].iplot(title=\"Thompson Sampling Avg. Reward: {:.4f}\"\n",
    "                                    .format(avg_reward_so_far),\n",
    "                                    xTitle='Impressions', \n",
    "                                    yTitle='Avg. Reward')"
   ]
  },
  {
   "cell_type": "code",
   "execution_count": null,
   "metadata": {},
   "outputs": [],
   "source": []
  }
 ],
 "metadata": {
  "kernelspec": {
   "display_name": "venv_mrl",
   "language": "python",
   "name": "python3"
  },
  "language_info": {
   "codemirror_mode": {
    "name": "ipython",
    "version": 3
   },
   "file_extension": ".py",
   "mimetype": "text/x-python",
   "name": "python",
   "nbconvert_exporter": "python",
   "pygments_lexer": "ipython3",
   "version": "3.8.10"
  },
  "vscode": {
   "interpreter": {
    "hash": "769b22f789755c13fedc77ee9ab6eafea5dd85d7db6675ea59215e213a8aaf2c"
   }
  }
 },
 "nbformat": 4,
 "nbformat_minor": 2
}
