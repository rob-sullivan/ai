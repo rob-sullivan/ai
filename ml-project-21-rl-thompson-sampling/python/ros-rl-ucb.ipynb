{
 "cells": [
  {
   "cell_type": "markdown",
   "metadata": {},
   "source": [
    "# Reinforcement Learning: Thompson Sampling"
   ]
  },
  {
   "cell_type": "markdown",
   "metadata": {},
   "source": [
    "## Import Libraries"
   ]
  },
  {
   "cell_type": "code",
   "execution_count": 1,
   "metadata": {},
   "outputs": [],
   "source": [
    "import numpy as np\n",
    "import matplotlib.pyplot as plt\n",
    "import pandas as pd\n",
    "import random"
   ]
  },
  {
   "cell_type": "markdown",
   "metadata": {},
   "source": [
    "## Import dataset"
   ]
  },
  {
   "cell_type": "code",
   "execution_count": 2,
   "metadata": {},
   "outputs": [],
   "source": [
    "#in a real world environment we would not have this simulation dataset.\n",
    "dataset = pd.read_csv('../Ads_CTR_Optimisation.csv')"
   ]
  },
  {
   "cell_type": "markdown",
   "metadata": {},
   "source": [
    "## Implement Thompson Sampling"
   ]
  },
  {
   "cell_type": "code",
   "execution_count": 5,
   "metadata": {},
   "outputs": [],
   "source": [
    "from random import betavariate\n",
    "#Step 1\n",
    "N = 500\n",
    "d = 10\n",
    "ads_selected = []\n",
    "Ni_1_n_number_of_rewards_1 = [0] * d\n",
    "Ni_0_n_number_of_rewards_0 = [0] * d\n",
    "total_reward = 0\n",
    "\n",
    "for n in range(0, N):\n",
    "    ad = 0\n",
    "    max_random = 0\n",
    "#Step 2\n",
    "    for i in range(0,d):\n",
    "        random_beta = random.betavariate(Ni_1_n_number_of_rewards_1[i] + 1, Ni_0_n_number_of_rewards_0[i] + 1)\n",
    "#Step 3\n",
    "        if(random_beta > max_random):\n",
    "            max_random = random_beta\n",
    "            ad = i\n",
    "    ads_selected.append(ad)\n",
    "    reward = dataset.values[n, ad]\n",
    "    if(reward == 1):\n",
    "        Ni_1_n_number_of_rewards_1[ad] = Ni_1_n_number_of_rewards_1[ad] + 1\n",
    "    else:\n",
    "        Ni_0_n_number_of_rewards_0[ad] = Ni_0_n_number_of_rewards_0[ad] + 1\n",
    "    total_reward = total_reward + 1"
   ]
  },
  {
   "cell_type": "markdown",
   "metadata": {},
   "source": [
    "## Visualise the results"
   ]
  },
  {
   "cell_type": "code",
   "execution_count": 6,
   "metadata": {},
   "outputs": [
    {
     "data": {
      "image/png": "[encoded data removed]",
      "text/plain": [
       "<Figure size 432x288 with 1 Axes>"
      ]
     },
     "metadata": {
      "needs_background": "light"
     },
     "output_type": "display_data"
    }
   ],
   "source": [
    "plt.hist(ads_selected)\n",
    "plt.title('Histogram of ad Selections')\n",
    "plt.xlabel('Ads')\n",
    "plt.ylabel('# times ad was selected')\n",
    "plt.show()"
   ]
  },
  {
   "cell_type": "markdown",
   "metadata": {},
   "source": [
    "500 is not enough to identify that ad 4 was the best one to run with UCB but Thompson sample was"
   ]
  }
 ],
 "metadata": {
  "kernelspec": {
   "display_name": "Python 3.8.10 ('venv': venv)",
   "language": "python",
   "name": "python3"
  },
  "language_info": {
   "codemirror_mode": {
    "name": "ipython",
    "version": 3
   },
   "file_extension": ".py",
   "mimetype": "text/x-python",
   "name": "python",
   "nbconvert_exporter": "python",
   "pygments_lexer": "ipython3",
   "version": "3.8.10"
  },
  "orig_nbformat": 4,
  "vscode": {
   "interpreter": {
    "hash": "3fcafb2413c669541f99831941a53394b43f3aa639141e36df9bf58e7aa89d43"
   }
  }
 },
 "nbformat": 4,
 "nbformat_minor": 2
}
