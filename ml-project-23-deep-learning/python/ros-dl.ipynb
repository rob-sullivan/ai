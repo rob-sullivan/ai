{
 "cells": [
  {
   "cell_type": "markdown",
   "metadata": {},
   "source": [
    "# Deep Learning\n",
    "* Artificial Neural Networks for Regression and Classification\n",
    "* Convolutional Neural Networks for Computer Vision\n",
    "* Recurrent Neural Networks for Time Series Analysis\n",
    "* Self Organizing Maps for Feature Extraction\n",
    "* Deep Boltzmann Machines for Recommendation Systems\n",
    "* Auto Encoders for Recommendation Systems"
   ]
  }
 ],
 "metadata": {
  "language_info": {
   "name": "python"
  },
  "orig_nbformat": 4
 },
 "nbformat": 4,
 "nbformat_minor": 2
}
