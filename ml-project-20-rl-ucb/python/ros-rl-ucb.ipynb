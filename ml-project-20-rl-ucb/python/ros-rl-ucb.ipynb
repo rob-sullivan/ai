{
 "cells": [
  {
   "cell_type": "markdown",
   "metadata": {},
   "source": [
    "# Reinforcement Learning: Upper Confidence Bound (UCB)"
   ]
  },
  {
   "cell_type": "markdown",
   "metadata": {},
   "source": [
    "## Import Libraries"
   ]
  },
  {
   "cell_type": "code",
   "execution_count": 1,
   "metadata": {},
   "outputs": [],
   "source": [
    "import numpy as np\n",
    "import matplotlib.pyplot as plt\n",
    "import pandas as pd\n",
    "import math"
   ]
  },
  {
   "cell_type": "markdown",
   "metadata": {},
   "source": [
    "## Import dataset"
   ]
  },
  {
   "cell_type": "code",
   "execution_count": 7,
   "metadata": {},
   "outputs": [],
   "source": [
    "#in a real world environment we would not have this simulation dataset.\n",
    "dataset = pd.read_csv('../Ads_CTR_Optimisation.csv')"
   ]
  },
  {
   "cell_type": "markdown",
   "metadata": {},
   "source": [
    "## Implement UCB"
   ]
  },
  {
   "cell_type": "code",
   "execution_count": 8,
   "metadata": {},
   "outputs": [],
   "source": [
    "#Step 1\n",
    "N = 1000 #total number of users, #try 500, 1000, or 10,000\n",
    "d = 10 #total number of ads\n",
    "ads_selected = []\n",
    "Ni_n_numbers_of_selections = [0] * d #initialise with 10 zeros\n",
    "Ri_n_sum_of_rewards = [0] * d #initialise with 10 zeros\n",
    "total_reward = 0 #total reward over all rounds\n",
    "\n",
    "#Step 2\n",
    "for n in range(0, N): #loop through all rounds (10k)\n",
    "    ad = 0\n",
    "    max_upper_bound = 0\n",
    "    for i in range(0, d):\n",
    "        if(Ni_n_numbers_of_selections[i] > 0):\n",
    "            ri_bar_n_average_reward = Ri_n_sum_of_rewards[i] / Ni_n_numbers_of_selections[i]\n",
    "            delta_i = math.sqrt(3/2 * math.log(n + 1) / Ni_n_numbers_of_selections[i])\n",
    "            upper_bound = ri_bar_n_average_reward + delta_i\n",
    "#step 3\n",
    "        else:\n",
    "            upper_bound = 1e400 #we need a high value\n",
    "        if(upper_bound > max_upper_bound):\n",
    "            max_upper_bound = upper_bound\n",
    "            ad = i\n",
    "    ads_selected.append(ad)\n",
    "    Ni_n_numbers_of_selections[ad] += 1\n",
    "    reward = dataset.values[n, ad]\n",
    "    Ri_n_sum_of_rewards[ad] = Ri_n_sum_of_rewards[ad] + reward\n",
    "    total_reward += reward"
   ]
  },
  {
   "cell_type": "markdown",
   "metadata": {},
   "source": [
    "## Visualise the results"
   ]
  },
  {
   "cell_type": "code",
   "execution_count": 9,
   "metadata": {},
   "outputs": [
    {
     "data": {
      "image/png": "[encoded data removed]",
      "text/plain": [
       "<Figure size 432x288 with 1 Axes>"
      ]
     },
     "metadata": {
      "needs_background": "light"
     },
     "output_type": "display_data"
    }
   ],
   "source": [
    "plt.hist(ads_selected)\n",
    "plt.title('Histogram of ad Selections')\n",
    "plt.xlabel('Ads')\n",
    "plt.ylabel('# times ad was selected')\n",
    "plt.show()"
   ]
  },
  {
   "cell_type": "markdown",
   "metadata": {},
   "source": [
    "500 is not enough to identify that ad 4 was the best one to run"
   ]
  }
 ],
 "metadata": {
  "kernelspec": {
   "display_name": "Python 3.8.10 ('venv': venv)",
   "language": "python",
   "name": "python3"
  },
  "language_info": {
   "codemirror_mode": {
    "name": "ipython",
    "version": 3
   },
   "file_extension": ".py",
   "mimetype": "text/x-python",
   "name": "python",
   "nbconvert_exporter": "python",
   "pygments_lexer": "ipython3",
   "version": "3.8.10"
  },
  "orig_nbformat": 4,
  "vscode": {
   "interpreter": {
    "hash": "3fcafb2413c669541f99831941a53394b43f3aa639141e36df9bf58e7aa89d43"
   }
  }
 },
 "nbformat": 4,
 "nbformat_minor": 2
}
