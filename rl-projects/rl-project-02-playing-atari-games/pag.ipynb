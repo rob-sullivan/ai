{
 "cells": [],
 "metadata": {
  "kernelspec": {
   "display_name": "Python 3.8.10 ('venv': venv)",
   "language": "python",
   "name": "python3"
  },
  "language_info": {
   "codemirror_mode": {
    "name": "ipython",
    "version": 3
   },
   "file_extension": ".py",
   "mimetype": "text/x-python",
   "name": "python",
   "nbconvert_exporter": "python",
   "pygments_lexer": "ipython3",
   "version": "3.8.10"
  },
  "vscode": {
   "interpreter": {
    "hash": "3fcafb2413c669541f99831941a53394b43f3aa639141e36df9bf58e7aa89d43"
   }
  }
 },
 "nbformat": 4,
 "nbformat_minor": 2
}
