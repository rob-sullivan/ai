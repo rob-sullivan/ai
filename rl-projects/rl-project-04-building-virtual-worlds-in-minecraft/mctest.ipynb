{
 "cells": [
  {
   "cell_type": "markdown",
   "metadata": {},
   "source": [
    "# Minecraft RL"
   ]
  },
  {
   "cell_type": "code",
   "execution_count": 1,
   "metadata": {},
   "outputs": [],
   "source": [
    "import gym\n",
    "import minerl\n",
    "\n",
    "import logging\n",
    "logging.basicConfig(level=logging.DEBUG)"
   ]
  },
  {
   "cell_type": "markdown",
   "metadata": {},
   "source": [
    "## Create an environment\n",
    "Now we can choose any one of the [many environments](http://minerl.io/docs/environments/) included in the minerl package. To learn more about the environments [checkout the environment documentation](http://minerl.io/docs/environments/).\n",
    "\n",
    "For this tutorial we’ll choose the MineRLBasaltFindCave-v0 environment. In this task, the agent is placed to a new world and its (subjective) goal is to find a cave, and end the episode.\n",
    "\n",
    "To create the environment, simply invoke gym.make"
   ]
  },
  {
   "cell_type": "markdown",
   "metadata": {},
   "source": [
    "### Caution\n",
    "Currently minerl only supports environment rendering in headed environments (servers with monitors attached).\n",
    "\n",
    "In order to run minerl environments without a head use a software renderer such as xvfb:\n",
    "\n",
    "xvfb-run python3 <your_script.py>"
   ]
  },
  {
   "cell_type": "code",
   "execution_count": 2,
   "metadata": {},
   "outputs": [],
   "source": [
    "env = gym.make('MineRLBasaltFindCave-v0')"
   ]
  },
  {
   "cell_type": "markdown",
   "metadata": {},
   "source": [
    "## Create a Random Agent"
   ]
  },
  {
   "cell_type": "code",
   "execution_count": 3,
   "metadata": {},
   "outputs": [
    {
     "name": "stderr",
     "output_type": "stream",
     "text": [
      "INFO:minerl.env.malmo.instance.91d61e:Starting Minecraft process: ['d:\\\\Projects\\\\repos\\\\ai\\\\venv\\\\lib\\\\site-packages\\\\minerl\\\\env\\\\..\\\\MCP-Reborn\\\\launchClient.bat', '-port', '11829', '-env', '-runDir', 'd:\\\\Projects\\\\repos\\\\ai\\\\venv\\\\lib\\\\site-packages\\\\minerl\\\\env\\\\..\\\\MCP-Reborn\\\\run']\n",
      "INFO:process_watcher:Launching process watcher daemonizer.\n",
      "INFO:process_watcher:Process watcher daemonizer launched successfully.\n",
      "DEBUG:minerl.env.malmo.instance.91d61e:SLF4J: Failed to load class \"org.slf4j.impl.StaticLoggerBinder\".\n",
      "DEBUG:minerl.env.malmo.instance.91d61e:SLF4J: Defaulting to no-operation (NOP) logger implementation\n",
      "DEBUG:minerl.env.malmo.instance.91d61e:SLF4J: See http://www.slf4j.org/codes.html#StaticLoggerBinder for further details.\n",
      "DEBUG:minerl.env.malmo.instance.91d61e:[23:15:35] [Render thread/INFO]: Environment: authHost='https://authserver.mojang.com', accountsHost='https://api.mojang.com', sessionHost='https://sessionserver.mojang.com', servicesHost='https://api.minecraftservices.com', name='PROD'\n",
      "ERROR:minerl.env.malmo.instance.91d61e:[23:15:39] [Render thread/ERROR]: Failed to verify authentication!\n",
      "DEBUG:minerl.env.malmo.instance.91d61e:[23:15:39] [Render thread/INFO]: Setting user: Player826\n",
      "DEBUG:minerl.env.malmo.instance.91d61e:[23:15:39] [Render thread/INFO]: Backend library: LWJGL version 3.2.2 SNAPSHOT\n",
      "ERROR:minerl.env.malmo.instance.91d61e:[23:15:42] [Render thread/WARN]: ERROR : Couldn't load Narrator library : Unable to load library 'SAPIWrapper_x64': Can't obtain InputStream for win32-x86-64/SAPIWrapper_x64.dll\n",
      "ERROR:minerl.env.malmo.instance.91d61e:ERROR : Couldn't load Narrator library : Unable to load library 'SAPIWrapper_x86': Can't obtain InputStream for win32-x86-64/SAPIWrapper_x86.dll\n",
      "DEBUG:minerl.env.malmo.instance.91d61e:\n",
      "DEBUG:minerl.env.malmo.instance.91d61e:[23:15:42] [Render thread/INFO]: Reloading ResourceManager: Default\n",
      "DEBUG:minerl.env.malmo.instance.91d61e:[23:15:43] [Realms Notification Availability checker #1/INFO]: Could not authorize you against Realms server: Invalid session id\n",
      "DEBUG:minerl.env.malmo.instance.91d61e:[23:15:47] [Render thread/INFO]: OpenAL initialized.\n",
      "DEBUG:minerl.env.malmo.instance.91d61e:[23:15:47] [Render thread/INFO]: Sound engine started\n",
      "DEBUG:minerl.env.malmo.instance.91d61e:[23:15:47] [Render thread/INFO]: Created: 1024x1024x4 minecraft:textures/atlas/blocks.png-atlas\n",
      "DEBUG:minerl.env.malmo.instance.91d61e:[23:15:48] [Render thread/INFO]: Created: 256x128x4 minecraft:textures/atlas/signs.png-atlas\n",
      "DEBUG:minerl.env.malmo.instance.91d61e:[23:15:48] [Render thread/INFO]: Created: 1024x512x4 minecraft:textures/atlas/banner_patterns.png-atlas\n",
      "DEBUG:minerl.env.malmo.instance.91d61e:[23:15:48] [Render thread/INFO]: Created: 1024x512x4 minecraft:textures/atlas/shield_patterns.png-atlas\n",
      "DEBUG:minerl.env.malmo.instance.91d61e:[23:15:48] [Render thread/INFO]: Created: 256x256x4 minecraft:textures/atlas/chest.png-atlas\n",
      "DEBUG:minerl.env.malmo.instance.91d61e:[23:15:48] [Render thread/INFO]: Created: 512x256x4 minecraft:textures/atlas/beds.png-atlas\n",
      "DEBUG:minerl.env.malmo.instance.91d61e:[23:15:48] [Render thread/INFO]: Created: 512x256x4 minecraft:textures/atlas/shulker_boxes.png-atlas\n",
      "DEBUG:minerl.env.malmo.instance.91d61e:[23:15:49] [Render thread/INFO]: Created: 256x256x0 minecraft:textures/atlas/particles.png-atlas\n",
      "DEBUG:minerl.env.malmo.instance.91d61e:[23:15:49] [Render thread/INFO]: Created: 256x256x0 minecraft:textures/atlas/paintings.png-atlas\n",
      "DEBUG:minerl.env.malmo.instance.91d61e:[23:15:49] [Render thread/INFO]: Created: 256x128x0 minecraft:textures/atlas/mob_effects.png-atlas\n",
      "DEBUG:minerl.env.malmo.instance.91d61e:[23:15:50] [Thread-5/INFO]: [STDOUT]: ***** Start MalmoEnvServer on port 11829\n",
      "DEBUG:minerl.env.malmo.instance.91d61e:[23:15:50] [Thread-5/INFO]: [STDOUT]: CLIENT enter state: DORMANT\n",
      "INFO:minerl.env.malmo.instance.91d61e:Minecraft process ready\n",
      "DEBUG:minerl.env._multiagent:Creating socket connection Malmo[None:91d61e, proc=13140, addr=localhost:11829, locked=True]\n",
      "INFO:minerl.env.malmo:Logging output of Minecraft to .\\logs\\mc_2829.log\n",
      "DEBUG:minerl.env.malmo.instance.91d61e:[23:15:50] [Thread-5/INFO]: [STDOUT]: SERVER enter state: DORMANT\n",
      "DEBUG:minerl.env._multiagent:Saying hello for client: Malmo[None:91d61e, proc=13140, addr=localhost:11829, locked=True]\n",
      "INFO:minerl.env._multiagent:Attempting to quit: Malmo[None:91d61e, proc=13140, addr=localhost:11829, locked=True]\n",
      "DEBUG:minerl.env._multiagent:Sending mission init: Malmo[None:91d61e, proc=13140, addr=localhost:11829, locked=True]\n",
      "DEBUG:minerl.env.malmo.instance.91d61e:[23:15:50] [EnvServerSocketHandler/INFO]: Received Mission token 7856ab6f-d00d-470c-b997-91823b56c7d0:0:0:1:true\n",
      "DEBUG:minerl.env.malmo.instance.91d61e:[23:15:50] [EnvServerSocketHandler/INFO]: Received mission init command  <MissionInit xmlns=\"http://ProjectMalmo.microsoft.com\" xmlns:xsi=\"http://www.w3.org/2001/XMLSchema-instance\" SchemaVersion=\"\" PlatformVersion=\"0.37.0\"><Mission><About><Summary>MineRLBasaltFindCave-v0</Summary></About><ModSettings><MsPerTick>50</MsPerTick></ModSettings><ServerSection><ServerInitialConditions><Time><AllowPassageOfTime>false</AllowPassageOfTime></Time><AllowSpawning>true</AllowSpawning></ServerInitialConditions><ServerHandlers><DefaultWorldGenerator forceReset=\"true\" generatorOptions=\"{}\"/><ServerQuitFromTimeUp timeLimitMs=\"180000\" description=\"out_of_time\"/><ServerQuitWhenAnyAgentFinishes/></ServerHandlers></ServerSection><AgentSection mode=\"Survival\"><Name>MineRLAgent0</Name><AgentStart><LowLevelInputs>true</LowLevelInputs><GuiScale>1.0</GuiScale><GammaSetting>2.0</GammaSetting><FOVSetting>70.0</FOVSetting><FakeCursorSize>16</FakeCursorSize><Inventory/><PreferredSpawnBiome>plains</PreferredSpawnBiome><DoneOnDeath>true</DoneOnDeath></AgentStart><AgentHandlers><FileBasedPerformanceProducer/><PauseCommand/><VideoProducer want_depth=\"false\"><Width>640</Width><Height>360</Height></VideoProducer><HumanLevelCommands/><CameraCommands/></AgentHandlers></AgentSection></Mission><ExperimentUID>7856ab6f-d00d-470c-b997-91823b56c7d0</ExperimentUID><ClientRole>0</ClientRole><ClientAgentConnection><ClientIPAddress>127.0.0.1</ClientIPAddress><ClientMissionControlPort>0</ClientMissionControlPort><ClientCommandsPort>0</ClientCommandsPort><AgentIPAddress>127.0.0.1</AgentIPAddress><AgentMissionControlPort>0</AgentMissionControlPort><AgentVideoPort>0</AgentVideoPort><AgentDepthPort>0</AgentDepthPort><AgentLuminancePort>0</AgentLuminancePort><AgentObservationsPort>0</AgentObservationsPort><AgentRewardsPort>0</AgentRewardsPort><AgentColourMapPort>0</AgentColourMapPort></ClientAgentConnection></MissionInit>\n",
      "DEBUG:minerl.env.malmo.instance.91d61e:[23:15:51] [Render thread/INFO]: [STDOUT]: *** creating fake mouse cursor ***\n",
      "DEBUG:minerl.env.malmo.instance.91d61e:[23:15:52] [EnvServerSocketHandler/INFO]: [STDOUT]: Setting width, height to 640, 360\n",
      "DEBUG:minerl.env.malmo.instance.91d61e:[23:15:52] [EnvServerSocketHandler/INFO]: [STDOUT]: Gamma: 2.0\n",
      "DEBUG:minerl.env.malmo.instance.91d61e:[23:15:52] [EnvServerSocketHandler/INFO]: [STDOUT]: FOV: 70.0\n",
      "DEBUG:minerl.env.malmo.instance.91d61e:[23:15:52] [EnvServerSocketHandler/INFO]: [STDOUT]: GuiScale: 1.0\n",
      "DEBUG:minerl.env.malmo.instance.91d61e:[23:15:52] [Render thread/INFO]: [STDOUT]: Seed not provided, generating random one: -1961749799380794335\n",
      "WARNING:minerl.env.malmo.instance.91d61e:[23:15:53] [Render thread/WARN]: Ambiguity between arguments [teleport, destination] and [teleport, targets] with inputs: [Player, 0123, @e, dd12be42-52a9-4a91-a8a1-11c01849e498]\n",
      "WARNING:minerl.env.malmo.instance.91d61e:[23:15:53] [Render thread/WARN]: Ambiguity between arguments [teleport, location] and [teleport, destination] with inputs: [0.1 -0.5 .9, 0 0 0]\n",
      "WARNING:minerl.env.malmo.instance.91d61e:[23:15:53] [Render thread/WARN]: Ambiguity between arguments [teleport, location] and [teleport, targets] with inputs: [0.1 -0.5 .9, 0 0 0]\n",
      "WARNING:minerl.env.malmo.instance.91d61e:[23:15:53] [Render thread/WARN]: Ambiguity between arguments [teleport, targets] and [teleport, destination] with inputs: [Player, 0123, dd12be42-52a9-4a91-a8a1-11c01849e498]\n",
      "WARNING:minerl.env.malmo.instance.91d61e:[23:15:53] [Render thread/WARN]: Ambiguity between arguments [teleport, targets, location] and [teleport, targets, destination] with inputs: [0.1 -0.5 .9, 0 0 0]\n",
      "DEBUG:minerl.env.malmo.instance.91d61e:[23:15:53] [Render thread/INFO]: Reloading ResourceManager: Default\n",
      "DEBUG:minerl.env.malmo.instance.91d61e:[23:15:53] [Render thread/INFO]: Loaded 7 recipes\n",
      "DEBUG:minerl.env.malmo.instance.91d61e:[23:15:54] [Render thread/INFO]: Loaded 927 advancements\n",
      "DEBUG:minerl.env.malmo.instance.91d61e:[23:15:56] [Render thread/INFO]: Environment: authHost='https://authserver.mojang.com', accountsHost='https://api.mojang.com', sessionHost='https://sessionserver.mojang.com', servicesHost='https://api.minecraftservices.com', name='PROD'\n",
      "DEBUG:minerl.env.malmo.instance.91d61e:[23:15:56] [Render thread/INFO]: Starting integrated minecraft server version 1.16.5\n",
      "DEBUG:minerl.env.malmo.instance.91d61e:[23:15:56] [Render thread/INFO]: Generating keypair\n",
      "DEBUG:minerl.env.malmo.instance.91d61e:[23:16:01] [Render thread/INFO]: Preparing start region for dimension minecraft:overworld\n",
      "DEBUG:minerl.env.malmo.instance.91d61e:[23:16:14] [Render thread/INFO]: Changing view distance to 11, from 10\n",
      "DEBUG:minerl.env.malmo.instance.91d61e:[23:16:15] [Render thread/INFO]: MineRLAgent0[local:E:3ebee54d] logged in with entity id 187 at (-749.5, 71.0, 410.5)\n",
      "DEBUG:minerl.env.malmo.instance.91d61e:[23:16:15] [Render thread/INFO]: MineRLAgent0 joined the game\n",
      "DEBUG:minerl.env.malmo.instance.91d61e:[23:16:15] [Render thread/INFO]: Preparing spawn area: 0%\n",
      "DEBUG:minerl.env.malmo.instance.91d61e:[23:16:15] [Render thread/INFO]: Time elapsed: 5 ms\n",
      "DEBUG:minerl.env.malmo.instance.91d61e:[23:16:16] [Render thread/INFO]: [STDOUT]: Starting new video null\n",
      "DEBUG:minerl.env.malmo.instance.91d61e:[23:16:16] [Render thread/INFO]: Saving and pausing game...\n",
      "DEBUG:minerl.env.malmo.instance.91d61e:[23:16:16] [Render thread/INFO]: Saving chunks for level 'ServerLevel[mcpworldca0849fa9cee]'/minecraft:overworld\n",
      "DEBUG:minerl.env.malmo.instance.91d61e:[23:16:16] [Render thread/INFO]: Saving chunks for level 'ServerLevel[mcpworldca0849fa9cee]'/minecraft:the_nether\n",
      "DEBUG:minerl.env.malmo.instance.91d61e:[23:16:16] [Render thread/INFO]: Saving chunks for level 'ServerLevel[mcpworldca0849fa9cee]'/minecraft:the_end\n",
      "DEBUG:minerl.env.malmo.instance.91d61e:[23:16:17] [Render thread/INFO]: Loaded 0 advancements\n",
      "DEBUG:minerl.env._multiagent:Peeking the clients.\n"
     ]
    }
   ],
   "source": [
    "# Note that this command will launch the MineRL environment, which takes time.\n",
    "# Be patient!\n",
    "obs = env.reset()"
   ]
  },
  {
   "cell_type": "markdown",
   "metadata": {},
   "source": [
    "The obs variable will be a dictionary containing the following observations returned by the environment. In the case of the MineRLBasaltFindCave-v0 environment, only one observation is returned: pov, an RGB image of the agent’s first person perspective.\n",
    "```\n",
    "\n",
    "{\n",
    "    'pov': array([[[ 63,  63,  68],\n",
    "        [ 63,  63,  68],\n",
    "        [ 63,  63,  68],\n",
    "        ...,\n",
    "        [ 92,  92, 100],\n",
    "        [ 92,  92, 100],\n",
    "        [ 92,  92, 100]],,\n",
    "\n",
    "        ...,\n",
    "\n",
    "\n",
    "        [[ 95, 118, 176],\n",
    "        [ 95, 119, 177],\n",
    "        [ 96, 119, 178],\n",
    "        ...,\n",
    "        [ 93, 116, 172],\n",
    "        [ 93, 115, 171],\n",
    "        [ 92, 115, 170]]], dtype=uint8)\n",
    "}\n",
    "```"
   ]
  },
  {
   "cell_type": "code",
   "execution_count": 4,
   "metadata": {},
   "outputs": [
    {
     "ename": "KeyboardInterrupt",
     "evalue": "",
     "output_type": "error",
     "traceback": [
      "\u001b[1;31m---------------------------------------------------------------------------\u001b[0m",
      "\u001b[1;31mKeyboardInterrupt\u001b[0m                         Traceback (most recent call last)",
      "\u001b[1;32md:\\Projects\\repos\\ai\\rl-project-04-building-virtual-worlds-in-minecraft\\mctest.ipynb Cell 9\u001b[0m in \u001b[0;36m<cell line: 3>\u001b[1;34m()\u001b[0m\n\u001b[0;32m      <a href='vscode-notebook-cell:/d%3A/Projects/repos/ai/rl-project-04-building-virtual-worlds-in-minecraft/mctest.ipynb#X10sZmlsZQ%3D%3D?line=5'>6</a>\u001b[0m \u001b[39m# In BASALT environments, sending ESC action will end the episode\u001b[39;00m\n\u001b[0;32m      <a href='vscode-notebook-cell:/d%3A/Projects/repos/ai/rl-project-04-building-virtual-worlds-in-minecraft/mctest.ipynb#X10sZmlsZQ%3D%3D?line=6'>7</a>\u001b[0m \u001b[39m# Lets not do that\u001b[39;00m\n\u001b[0;32m      <a href='vscode-notebook-cell:/d%3A/Projects/repos/ai/rl-project-04-building-virtual-worlds-in-minecraft/mctest.ipynb#X10sZmlsZQ%3D%3D?line=7'>8</a>\u001b[0m action[\u001b[39m\"\u001b[39m\u001b[39mESC\u001b[39m\u001b[39m\"\u001b[39m] \u001b[39m=\u001b[39m \u001b[39m0\u001b[39m\n\u001b[1;32m----> <a href='vscode-notebook-cell:/d%3A/Projects/repos/ai/rl-project-04-building-virtual-worlds-in-minecraft/mctest.ipynb#X10sZmlsZQ%3D%3D?line=8'>9</a>\u001b[0m obs, reward, done, _ \u001b[39m=\u001b[39m env\u001b[39m.\u001b[39;49mstep(action)\n\u001b[0;32m     <a href='vscode-notebook-cell:/d%3A/Projects/repos/ai/rl-project-04-building-virtual-worlds-in-minecraft/mctest.ipynb#X10sZmlsZQ%3D%3D?line=9'>10</a>\u001b[0m env\u001b[39m.\u001b[39mrender()\n",
      "File \u001b[1;32md:\\Projects\\repos\\ai\\venv\\lib\\site-packages\\gym\\wrappers\\time_limit.py:18\u001b[0m, in \u001b[0;36mTimeLimit.step\u001b[1;34m(self, action)\u001b[0m\n\u001b[0;32m     14\u001b[0m \u001b[39mdef\u001b[39;00m \u001b[39mstep\u001b[39m(\u001b[39mself\u001b[39m, action):\n\u001b[0;32m     15\u001b[0m     \u001b[39massert\u001b[39;00m (\n\u001b[0;32m     16\u001b[0m         \u001b[39mself\u001b[39m\u001b[39m.\u001b[39m_elapsed_steps \u001b[39mis\u001b[39;00m \u001b[39mnot\u001b[39;00m \u001b[39mNone\u001b[39;00m\n\u001b[0;32m     17\u001b[0m     ), \u001b[39m\"\u001b[39m\u001b[39mCannot call env.step() before calling reset()\u001b[39m\u001b[39m\"\u001b[39m\n\u001b[1;32m---> 18\u001b[0m     observation, reward, done, info \u001b[39m=\u001b[39m \u001b[39mself\u001b[39;49m\u001b[39m.\u001b[39;49menv\u001b[39m.\u001b[39;49mstep(action)\n\u001b[0;32m     19\u001b[0m     \u001b[39mself\u001b[39m\u001b[39m.\u001b[39m_elapsed_steps \u001b[39m+\u001b[39m\u001b[39m=\u001b[39m \u001b[39m1\u001b[39m\n\u001b[0;32m     20\u001b[0m     \u001b[39mif\u001b[39;00m \u001b[39mself\u001b[39m\u001b[39m.\u001b[39m_elapsed_steps \u001b[39m>\u001b[39m\u001b[39m=\u001b[39m \u001b[39mself\u001b[39m\u001b[39m.\u001b[39m_max_episode_steps:\n",
      "File \u001b[1;32md:\\Projects\\repos\\ai\\venv\\lib\\site-packages\\minerl\\herobraine\\env_specs\\basalt_specs.py:83\u001b[0m, in \u001b[0;36mDoneOnESCWrapper.step\u001b[1;34m(self, action)\u001b[0m\n\u001b[0;32m     81\u001b[0m \u001b[39mif\u001b[39;00m \u001b[39mself\u001b[39m\u001b[39m.\u001b[39mepisode_over:\n\u001b[0;32m     82\u001b[0m     \u001b[39mraise\u001b[39;00m \u001b[39mRuntimeError\u001b[39;00m(\u001b[39m\"\u001b[39m\u001b[39mExpected `reset` after episode terminated, not `step`.\u001b[39m\u001b[39m\"\u001b[39m)\n\u001b[1;32m---> 83\u001b[0m observation, reward, done, info \u001b[39m=\u001b[39m \u001b[39mself\u001b[39;49m\u001b[39m.\u001b[39;49menv\u001b[39m.\u001b[39;49mstep(action)\n\u001b[0;32m     84\u001b[0m done \u001b[39m=\u001b[39m done \u001b[39mor\u001b[39;00m \u001b[39mbool\u001b[39m(action[\u001b[39m\"\u001b[39m\u001b[39mESC\u001b[39m\u001b[39m\"\u001b[39m])\n\u001b[0;32m     85\u001b[0m \u001b[39mself\u001b[39m\u001b[39m.\u001b[39mepisode_over \u001b[39m=\u001b[39m done\n",
      "File \u001b[1;32md:\\Projects\\repos\\ai\\venv\\lib\\site-packages\\minerl\\herobraine\\env_specs\\basalt_specs.py:60\u001b[0m, in \u001b[0;36mBasaltTimeoutWrapper.step\u001b[1;34m(self, action)\u001b[0m\n\u001b[0;32m     59\u001b[0m \u001b[39mdef\u001b[39;00m \u001b[39mstep\u001b[39m(\u001b[39mself\u001b[39m, action):\n\u001b[1;32m---> 60\u001b[0m     observation, reward, done, info \u001b[39m=\u001b[39m \u001b[39msuper\u001b[39;49m()\u001b[39m.\u001b[39;49mstep(action)\n\u001b[0;32m     61\u001b[0m     \u001b[39mself\u001b[39m\u001b[39m.\u001b[39mnum_steps \u001b[39m+\u001b[39m\u001b[39m=\u001b[39m \u001b[39m1\u001b[39m\n\u001b[0;32m     62\u001b[0m     \u001b[39mif\u001b[39;00m \u001b[39mself\u001b[39m\u001b[39m.\u001b[39mnum_steps \u001b[39m>\u001b[39m\u001b[39m=\u001b[39m \u001b[39mself\u001b[39m\u001b[39m.\u001b[39mtimeout:\n",
      "File \u001b[1;32md:\\Projects\\repos\\ai\\venv\\lib\\site-packages\\gym\\core.py:248\u001b[0m, in \u001b[0;36mWrapper.step\u001b[1;34m(self, action)\u001b[0m\n\u001b[0;32m    247\u001b[0m \u001b[39mdef\u001b[39;00m \u001b[39mstep\u001b[39m(\u001b[39mself\u001b[39m, action):\n\u001b[1;32m--> 248\u001b[0m     \u001b[39mreturn\u001b[39;00m \u001b[39mself\u001b[39;49m\u001b[39m.\u001b[39;49menv\u001b[39m.\u001b[39;49mstep(action)\n",
      "File \u001b[1;32md:\\Projects\\repos\\ai\\venv\\lib\\site-packages\\minerl\\env\\_singleagent.py:31\u001b[0m, in \u001b[0;36m_SingleAgentEnv.step\u001b[1;34m(self, single_agent_action)\u001b[0m\n\u001b[0;32m     27\u001b[0m aname \u001b[39m=\u001b[39m \u001b[39mself\u001b[39m\u001b[39m.\u001b[39mtask\u001b[39m.\u001b[39magent_names[\u001b[39m0\u001b[39m]\n\u001b[0;32m     28\u001b[0m multi_agent_action \u001b[39m=\u001b[39m {\n\u001b[0;32m     29\u001b[0m     aname: single_agent_action\n\u001b[0;32m     30\u001b[0m }\n\u001b[1;32m---> 31\u001b[0m obs, rew, done, info \u001b[39m=\u001b[39m \u001b[39msuper\u001b[39;49m()\u001b[39m.\u001b[39;49mstep(multi_agent_action)\n\u001b[0;32m     33\u001b[0m \u001b[39mreturn\u001b[39;00m obs[aname], rew[aname], done, info[aname]\n",
      "File \u001b[1;32md:\\Projects\\repos\\ai\\venv\\lib\\site-packages\\minerl\\env\\_multiagent.py:298\u001b[0m, in \u001b[0;36m_MultiAgentEnv.step\u001b[1;34m(self, actions)\u001b[0m\n\u001b[0;32m    295\u001b[0m comms\u001b[39m.\u001b[39msend_message(instance\u001b[39m.\u001b[39mclient_socket, step_message\u001b[39m.\u001b[39mencode())\n\u001b[0;32m    297\u001b[0m \u001b[39m# Receive the observation.\u001b[39;00m\n\u001b[1;32m--> 298\u001b[0m obs \u001b[39m=\u001b[39m comms\u001b[39m.\u001b[39;49mrecv_message(instance\u001b[39m.\u001b[39;49mclient_socket)\n\u001b[0;32m    300\u001b[0m \u001b[39m# Receive reward done and sent.\u001b[39;00m\n\u001b[0;32m    301\u001b[0m reply \u001b[39m=\u001b[39m comms\u001b[39m.\u001b[39mrecv_message(instance\u001b[39m.\u001b[39mclient_socket)\n",
      "File \u001b[1;32md:\\Projects\\repos\\ai\\venv\\lib\\site-packages\\minerl\\env\\comms.py:63\u001b[0m, in \u001b[0;36mrecv_message\u001b[1;34m(sock)\u001b[0m\n\u001b[0;32m     62\u001b[0m \u001b[39mdef\u001b[39;00m \u001b[39mrecv_message\u001b[39m(sock):\n\u001b[1;32m---> 63\u001b[0m     lengthbuf \u001b[39m=\u001b[39m recvall(sock, \u001b[39m4\u001b[39;49m)\n\u001b[0;32m     64\u001b[0m     \u001b[39mif\u001b[39;00m \u001b[39mnot\u001b[39;00m lengthbuf:\n\u001b[0;32m     65\u001b[0m         \u001b[39mreturn\u001b[39;00m \u001b[39mNone\u001b[39;00m\n",
      "File \u001b[1;32md:\\Projects\\repos\\ai\\venv\\lib\\site-packages\\minerl\\env\\comms.py:73\u001b[0m, in \u001b[0;36mrecvall\u001b[1;34m(sock, count)\u001b[0m\n\u001b[0;32m     71\u001b[0m buf \u001b[39m=\u001b[39m \u001b[39mb\u001b[39m\u001b[39m'\u001b[39m\u001b[39m'\u001b[39m\n\u001b[0;32m     72\u001b[0m \u001b[39mwhile\u001b[39;00m count:\n\u001b[1;32m---> 73\u001b[0m     newbuf \u001b[39m=\u001b[39m sock\u001b[39m.\u001b[39;49mrecv(count)\n\u001b[0;32m     74\u001b[0m     \u001b[39mif\u001b[39;00m \u001b[39mnot\u001b[39;00m newbuf:\n\u001b[0;32m     75\u001b[0m         \u001b[39mreturn\u001b[39;00m \u001b[39mNone\u001b[39;00m\n",
      "\u001b[1;31mKeyboardInterrupt\u001b[0m: "
     ]
    },
    {
     "ename": "",
     "evalue": "",
     "output_type": "error",
     "traceback": [
      "\u001b[1;31mThe Kernel crashed while executing code in the the current cell or a previous cell. Please review the code in the cell(s) to identify a possible cause of the failure. Click <a href='https://aka.ms/vscodeJupyterKernelCrash'>here</a> for more info. View Jupyter <a href='command:jupyter.viewOutput'>log</a> for further details."
     ]
    }
   ],
   "source": [
    "done = False\n",
    "\n",
    "while not done:\n",
    "    # Take a random action\n",
    "    action = env.action_space.sample()\n",
    "    # In BASALT environments, sending ESC action will end the episode\n",
    "    # Lets not do that\n",
    "    action[\"ESC\"] = 0\n",
    "    obs, reward, done, _ = env.step(action)\n",
    "    env.render()"
   ]
  }
 ],
 "metadata": {
  "kernelspec": {
   "display_name": "Python 3.8.10 ('venv': venv)",
   "language": "python",
   "name": "python3"
  },
  "language_info": {
   "codemirror_mode": {
    "name": "ipython",
    "version": 3
   },
   "file_extension": ".py",
   "mimetype": "text/x-python",
   "name": "python",
   "nbconvert_exporter": "python",
   "pygments_lexer": "ipython3",
   "version": "3.8.10"
  },
  "orig_nbformat": 4,
  "vscode": {
   "interpreter": {
    "hash": "3fcafb2413c669541f99831941a53394b43f3aa639141e36df9bf58e7aa89d43"
   }
  }
 },
 "nbformat": 4,
 "nbformat_minor": 2
}
