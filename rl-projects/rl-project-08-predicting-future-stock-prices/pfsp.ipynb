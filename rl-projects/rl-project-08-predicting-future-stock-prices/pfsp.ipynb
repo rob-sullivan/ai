{
 "cells": [],
 "metadata": {
  "kernelspec": {
   "display_name": "Python 3.8.10 64-bit (microsoft store)",
   "language": "python",
   "name": "python3"
  },
  "language_info": {
   "codemirror_mode": {
    "name": "ipython",
    "version": 3
   },
   "file_extension": ".py",
   "mimetype": "text/x-python",
   "name": "python",
   "nbconvert_exporter": "python",
   "pygments_lexer": "ipython3",
   "version": "3.8.10"
  },
  "vscode": {
   "interpreter": {
    "hash": "49fcd8ae938c4e8845c5ec1c537987fb5147b861068b8285d394a828eacc8c79"
   }
  }
 },
 "nbformat": 4,
 "nbformat_minor": 2
}
