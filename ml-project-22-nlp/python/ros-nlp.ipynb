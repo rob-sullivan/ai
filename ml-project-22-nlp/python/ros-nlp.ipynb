{
 "cells": [
  {
   "cell_type": "markdown",
   "metadata": {},
   "source": [
    "# Natural language Processing (NLP): Restaurant Review Sentiment Analysis"
   ]
  },
  {
   "cell_type": "code",
   "execution_count": null,
   "metadata": {},
   "outputs": [],
   "source": []
  }
 ],
 "metadata": {
  "kernelspec": {
   "display_name": "Python 3.8.10 64-bit (microsoft store)",
   "language": "python",
   "name": "python3"
  },
  "language_info": {
   "name": "python",
   "version": "3.8.10"
  },
  "orig_nbformat": 4,
  "vscode": {
   "interpreter": {
    "hash": "49fcd8ae938c4e8845c5ec1c537987fb5147b861068b8285d394a828eacc8c79"
   }
  }
 },
 "nbformat": 4,
 "nbformat_minor": 2
}
