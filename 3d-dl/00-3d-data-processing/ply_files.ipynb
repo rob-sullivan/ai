{
 "cells": [
  {
   "cell_type": "markdown",
   "metadata": {},
   "source": [
    "# 3d Data Processing"
   ]
  },
  {
   "cell_type": "markdown",
   "metadata": {},
   "source": [
    "## Import Libraries"
   ]
  },
  {
   "cell_type": "code",
   "execution_count": 33,
   "metadata": {},
   "outputs": [],
   "source": [
    "import open3d\n",
    "from pytorch3d.io import load_ply"
   ]
  },
  {
   "cell_type": "markdown",
   "metadata": {},
   "source": [
    "## Get data object"
   ]
  },
  {
   "cell_type": "code",
   "execution_count": 34,
   "metadata": {},
   "outputs": [],
   "source": [
    "mesh_file1 = './objects/cube.ply' #only six faces, which form a cube\n",
    "mesh_file2 = './objects/parallel_plane_mono.ply' #only four faces, which form two parallel planes:\n",
    "mesh_file3 = './objects/parallel_plane_color.ply'\n",
    "mesh_file4 = './objects/cow.ply'"
   ]
  },
  {
   "cell_type": "markdown",
   "metadata": {},
   "source": [
    "## Visualise Object in Open3d"
   ]
  },
  {
   "cell_type": "code",
   "execution_count": 35,
   "metadata": {},
   "outputs": [
    {
     "name": "stdout",
     "output_type": "stream",
     "text": [
      "visualizing the first mesh using external open3D\n"
     ]
    }
   ],
   "source": [
    "print('visualizing the first mesh using external open3D')\n",
    "mesh = open3d.io.read_triangle_mesh(mesh_file1)\n",
    "open3d.visualization.draw_geometries([mesh], mesh_show_wireframe = True, mesh_show_back_face = True)"
   ]
  },
  {
   "cell_type": "code",
   "execution_count": 36,
   "metadata": {},
   "outputs": [
    {
     "name": "stdout",
     "output_type": "stream",
     "text": [
      "visualizing the second mesh using external open3D\n"
     ]
    }
   ],
   "source": [
    "print('visualizing the second mesh using external open3D')\n",
    "mesh = open3d.io.read_triangle_mesh(mesh_file2)\n",
    "open3d.visualization.draw_geometries([mesh], mesh_show_wireframe = True, mesh_show_back_face = True)"
   ]
  },
  {
   "cell_type": "code",
   "execution_count": 37,
   "metadata": {},
   "outputs": [
    {
     "name": "stdout",
     "output_type": "stream",
     "text": [
      "visualizing the third mesh using external open3D\n"
     ]
    }
   ],
   "source": [
    "print('visualizing the third mesh using external open3D')\n",
    "mesh = open3d.io.read_triangle_mesh(mesh_file3)\n",
    "open3d.visualization.draw_geometries([mesh], mesh_show_wireframe = True, mesh_show_back_face = True)"
   ]
  },
  {
   "cell_type": "code",
   "execution_count": 38,
   "metadata": {},
   "outputs": [
    {
     "name": "stdout",
     "output_type": "stream",
     "text": [
      "visualizing the fourth mesh using external open3D\n"
     ]
    }
   ],
   "source": [
    "print('visualizing the fourth mesh using external open3D')\n",
    "mesh = open3d.io.read_triangle_mesh(mesh_file4)\n",
    "open3d.visualization.draw_geometries([mesh], mesh_show_wireframe = True, mesh_show_back_face = True)"
   ]
  },
  {
   "cell_type": "markdown",
   "metadata": {},
   "source": [
    "## Visualise Object in Pytorch3d"
   ]
  },
  {
   "cell_type": "code",
   "execution_count": 39,
   "metadata": {},
   "outputs": [
    {
     "name": "stdout",
     "output_type": "stream",
     "text": [
      "Loading the first mesh with PyTorch3D\n",
      "Type of vertices =  <class 'torch.Tensor'>\n",
      "type of faces =  <class 'torch.Tensor'>\n",
      "vertices =  tensor([[-1., -1., -1.],\n",
      "        [ 1., -1., -1.],\n",
      "        [ 1.,  1., -1.],\n",
      "        [-1.,  1., -1.],\n",
      "        [-1., -1.,  1.],\n",
      "        [ 1., -1.,  1.],\n",
      "        [ 1.,  1.,  1.],\n",
      "        [-1.,  1.,  1.]])\n",
      "faces =  tensor([[0, 1, 2],\n",
      "        [5, 4, 7],\n",
      "        [6, 2, 1],\n",
      "        [3, 7, 4],\n",
      "        [7, 3, 2],\n",
      "        [5, 1, 0],\n",
      "        [0, 2, 3],\n",
      "        [5, 7, 6],\n",
      "        [6, 1, 5],\n",
      "        [3, 4, 0],\n",
      "        [7, 2, 6],\n",
      "        [5, 0, 4]])\n"
     ]
    }
   ],
   "source": [
    "print(\"Loading the first mesh with PyTorch3D\")\n",
    "vertices, faces = load_ply(mesh_file1)\n",
    "print('Type of vertices = ', type(vertices))\n",
    "print(\"type of faces = \", type(faces))\n",
    "print('vertices = ', vertices)\n",
    "print('faces = ', faces)"
   ]
  },
  {
   "cell_type": "code",
   "execution_count": 40,
   "metadata": {},
   "outputs": [
    {
     "name": "stdout",
     "output_type": "stream",
     "text": [
      "Loading the second mesh with PyTorch3D\n",
      "Type of vertices =  <class 'torch.Tensor'>\n",
      "type of faces =  <class 'torch.Tensor'>\n",
      "vertices =  tensor([[-1., -1., -1.],\n",
      "        [ 1., -1., -1.],\n",
      "        [ 1.,  1., -1.],\n",
      "        [-1.,  1., -1.],\n",
      "        [-1., -1.,  1.],\n",
      "        [ 1., -1.,  1.],\n",
      "        [ 1.,  1.,  1.],\n",
      "        [-1.,  1.,  1.]])\n",
      "faces =  tensor([[0, 1, 2],\n",
      "        [0, 2, 3],\n",
      "        [5, 4, 7],\n",
      "        [5, 7, 6]])\n"
     ]
    }
   ],
   "source": [
    "print(\"Loading the second mesh with PyTorch3D\")\n",
    "vertices, faces = load_ply(mesh_file2)\n",
    "print('Type of vertices = ', type(vertices))\n",
    "print(\"type of faces = \", type(faces))\n",
    "print('vertices = ', vertices)\n",
    "print('faces = ', faces)"
   ]
  },
  {
   "cell_type": "code",
   "execution_count": 41,
   "metadata": {},
   "outputs": [
    {
     "name": "stdout",
     "output_type": "stream",
     "text": [
      "Loading the third mesh with PyTorch3D\n",
      "Type of vertices =  <class 'torch.Tensor'>\n",
      "type of faces =  <class 'torch.Tensor'>\n",
      "vertices =  tensor([[-1., -1., -1.],\n",
      "        [ 1., -1., -1.],\n",
      "        [ 1.,  1., -1.],\n",
      "        [-1.,  1., -1.],\n",
      "        [-1., -1.,  1.],\n",
      "        [ 1., -1.,  1.],\n",
      "        [ 1.,  1.,  1.],\n",
      "        [-1.,  1.,  1.]])\n",
      "faces =  tensor([[0, 1, 2],\n",
      "        [0, 2, 3],\n",
      "        [5, 4, 7],\n",
      "        [5, 7, 6]])\n"
     ]
    }
   ],
   "source": [
    "print(\"Loading the third mesh with PyTorch3D\")\n",
    "vertices, faces = load_ply(mesh_file3)\n",
    "print('Type of vertices = ', type(vertices))\n",
    "print(\"type of faces = \", type(faces))\n",
    "print('vertices = ', vertices)\n",
    "print('faces = ', faces)"
   ]
  },
  {
   "cell_type": "code",
   "execution_count": 42,
   "metadata": {},
   "outputs": [
    {
     "name": "stdout",
     "output_type": "stream",
     "text": [
      "Loading the fourth mesh with PyTorch3D\n",
      "Type of vertices =  <class 'torch.Tensor'>\n",
      "type of faces =  <class 'torch.Tensor'>\n",
      "vertices =  tensor([[ 0.6055,  0.1831, -0.4723],\n",
      "        [ 0.6492,  0.1297, -0.4949],\n",
      "        [ 0.6011,  0.1055, -0.5333],\n",
      "        ...,\n",
      "        [-1.4558,  0.6748,  0.2449],\n",
      "        [-1.2448,  0.6488,  0.2009],\n",
      "        [-1.4893,  0.6437,  0.2272]])\n",
      "faces =  tensor([[   0,    1,    2],\n",
      "        [   1,    3,    4],\n",
      "        [   5,    6,    2],\n",
      "        ...,\n",
      "        [2370, 2839, 2837],\n",
      "        [2491, 2013, 2011],\n",
      "        [2498, 2381, 2433]])\n"
     ]
    }
   ],
   "source": [
    "print(\"Loading the fourth mesh with PyTorch3D\")\n",
    "vertices, faces = load_ply(mesh_file4)\n",
    "print('Type of vertices = ', type(vertices))\n",
    "print(\"type of faces = \", type(faces))\n",
    "print('vertices = ', vertices)\n",
    "print('faces = ', faces)"
   ]
  }
 ],
 "metadata": {
  "kernelspec": {
   "display_name": "venv_3dl",
   "language": "python",
   "name": "python3"
  },
  "language_info": {
   "codemirror_mode": {
    "name": "ipython",
    "version": 3
   },
   "file_extension": ".py",
   "mimetype": "text/x-python",
   "name": "python",
   "nbconvert_exporter": "python",
   "pygments_lexer": "ipython3",
   "version": "3.8.0"
  },
  "orig_nbformat": 4
 },
 "nbformat": 4,
 "nbformat_minor": 2
}
