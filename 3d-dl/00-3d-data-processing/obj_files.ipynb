{
 "cells": [
  {
   "cell_type": "code",
   "execution_count": 1,
   "metadata": {},
   "outputs": [
    {
     "name": "stdout",
     "output_type": "stream",
     "text": [
      "Jupyter environment detected. Enabling Open3D WebVisualizer.\n",
      "[Open3D INFO] WebRTC GUI backend enabled.\n",
      "[Open3D INFO] WebRTCWindowSystem: HTTP handshake server disabled.\n"
     ]
    }
   ],
   "source": [
    "import open3d\n",
    "from pytorch3d.io import load_obj\n",
    "import torch"
   ]
  },
  {
   "cell_type": "code",
   "execution_count": 2,
   "metadata": {},
   "outputs": [],
   "source": [
    "mesh_file1 = \"./objects/cube.obj\"\n",
    "mesh_file2 = \"./objects/cube_texture.obj\""
   ]
  },
  {
   "cell_type": "code",
   "execution_count": 3,
   "metadata": {},
   "outputs": [
    {
     "name": "stdout",
     "output_type": "stream",
     "text": [
      "visualizing the first mesh using open3D\n"
     ]
    }
   ],
   "source": [
    "print('visualizing the first mesh using open3D')\n",
    "mesh = open3d.io.read_triangle_mesh(mesh_file1)\n",
    "open3d.visualization.draw_geometries([mesh],\n",
    "                                     mesh_show_wireframe = True,\n",
    "                                     mesh_show_back_face = True,\n",
    "                                     )"
   ]
  },
  {
   "cell_type": "code",
   "execution_count": 4,
   "metadata": {},
   "outputs": [
    {
     "name": "stdout",
     "output_type": "stream",
     "text": [
      "Loading the first mesh with PyTorch3D\n",
      "Type of vertices =  <class 'torch.Tensor'>\n",
      "Type of faces =  <class 'pytorch3d.io.obj_io.Faces'>\n",
      "Type of aux =  <class 'pytorch3d.io.obj_io.Properties'>\n",
      "vertices =  tensor([[-0.5000, -0.5000,  0.5000],\n",
      "        [-0.5000, -0.5000, -0.5000],\n",
      "        [-0.5000,  0.5000, -0.5000],\n",
      "        [-0.5000,  0.5000,  0.5000],\n",
      "        [ 0.5000, -0.5000,  0.5000],\n",
      "        [ 0.5000, -0.5000, -0.5000],\n",
      "        [ 0.5000,  0.5000, -0.5000],\n",
      "        [ 0.5000,  0.5000,  0.5000]])\n",
      "faces =  Faces(verts_idx=tensor([[0, 1, 2],\n",
      "        [5, 4, 7],\n",
      "        [6, 2, 1],\n",
      "        [3, 7, 4],\n",
      "        [7, 3, 2],\n",
      "        [5, 1, 0],\n",
      "        [0, 2, 3],\n",
      "        [5, 7, 6],\n",
      "        [6, 1, 5],\n",
      "        [3, 4, 0],\n",
      "        [7, 2, 6],\n",
      "        [5, 0, 4]]), normals_idx=tensor([[-1, -1, -1],\n",
      "        [-1, -1, -1],\n",
      "        [-1, -1, -1],\n",
      "        [-1, -1, -1],\n",
      "        [-1, -1, -1],\n",
      "        [-1, -1, -1],\n",
      "        [-1, -1, -1],\n",
      "        [-1, -1, -1],\n",
      "        [-1, -1, -1],\n",
      "        [-1, -1, -1],\n",
      "        [-1, -1, -1],\n",
      "        [-1, -1, -1]]), textures_idx=tensor([[-1, -1, -1],\n",
      "        [-1, -1, -1],\n",
      "        [-1, -1, -1],\n",
      "        [-1, -1, -1],\n",
      "        [-1, -1, -1],\n",
      "        [-1, -1, -1],\n",
      "        [-1, -1, -1],\n",
      "        [-1, -1, -1],\n",
      "        [-1, -1, -1],\n",
      "        [-1, -1, -1],\n",
      "        [-1, -1, -1],\n",
      "        [-1, -1, -1]]), materials_idx=tensor([0, 0, 0, 0, 0, 0, 0, 0, 0, 0, 0, 0]))\n",
      "aux =  Properties(normals=None, verts_uvs=None, material_colors={'Door': {'ambient_color': tensor([0.8000, 0.6000, 0.4000]), 'diffuse_color': tensor([0.8000, 0.6000, 0.4000]), 'specular_color': tensor([0.9000, 0.9000, 0.9000]), 'shininess': tensor([0.])}}, texture_images={}, texture_atlas=None)\n"
     ]
    }
   ],
   "source": [
    "print(\"Loading the first mesh with PyTorch3D\")\n",
    "vertices, faces, aux = load_obj(mesh_file1)\n",
    "print('Type of vertices = ', type(vertices))\n",
    "print(\"Type of faces = \", type(faces))\n",
    "print(\"Type of aux = \", type(aux))\n",
    "print('vertices = ', vertices)\n",
    "print('faces = ', faces)\n",
    "print('aux = ', aux)"
   ]
  },
  {
   "cell_type": "code",
   "execution_count": 5,
   "metadata": {},
   "outputs": [
    {
     "name": "stdout",
     "output_type": "stream",
     "text": [
      "visualizing second mesh using open3D\n"
     ]
    }
   ],
   "source": [
    "print('visualizing second mesh using open3D')\n",
    "mesh = open3d.io.read_triangle_mesh(mesh_file2)\n",
    "open3d.visualization.draw_geometries([mesh],\n",
    "                                     mesh_show_wireframe = True,\n",
    "                                     mesh_show_back_face = True,\n",
    "                                     )\n"
   ]
  },
  {
   "cell_type": "code",
   "execution_count": 6,
   "metadata": {},
   "outputs": [
    {
     "name": "stdout",
     "output_type": "stream",
     "text": [
      "Loading second mesh with PyTorch3D\n",
      "Type of vertices =  <class 'torch.Tensor'>\n",
      "Type of faces =  <class 'pytorch3d.io.obj_io.Faces'>\n",
      "Type of aux =  <class 'pytorch3d.io.obj_io.Properties'>\n",
      "vertices =  tensor([[ 1.0000, -1.0000, -1.0000],\n",
      "        [ 1.0000, -1.0000,  1.0000],\n",
      "        [-1.0000, -1.0000,  1.0000],\n",
      "        [-1.0000, -1.0000, -1.0000],\n",
      "        [ 1.0000,  1.0000, -1.0000],\n",
      "        [ 1.0000,  1.0000,  1.0000],\n",
      "        [-1.0000,  1.0000,  1.0000],\n",
      "        [-1.0000,  1.0000, -1.0000]])\n",
      "faces =  Faces(verts_idx=tensor([[1, 2, 3],\n",
      "        [7, 6, 5],\n",
      "        [4, 5, 1],\n",
      "        [5, 6, 2],\n",
      "        [2, 6, 7],\n",
      "        [0, 3, 7],\n",
      "        [0, 1, 3],\n",
      "        [4, 7, 5],\n",
      "        [0, 4, 1],\n",
      "        [1, 5, 2],\n",
      "        [3, 2, 7],\n",
      "        [4, 0, 7]]), normals_idx=tensor([[0, 0, 0],\n",
      "        [1, 1, 1],\n",
      "        [2, 2, 2],\n",
      "        [3, 3, 3],\n",
      "        [4, 4, 4],\n",
      "        [5, 5, 5],\n",
      "        [0, 0, 0],\n",
      "        [1, 1, 1],\n",
      "        [2, 2, 2],\n",
      "        [3, 3, 3],\n",
      "        [4, 4, 4],\n",
      "        [5, 5, 5]]), textures_idx=tensor([[ 0,  1,  2],\n",
      "        [ 0,  3,  4],\n",
      "        [ 5,  6,  7],\n",
      "        [ 7,  4,  3],\n",
      "        [ 8,  9, 10],\n",
      "        [11, 12, 10],\n",
      "        [ 3,  0,  2],\n",
      "        [13,  0,  4],\n",
      "        [11,  5,  7],\n",
      "        [11,  7,  3],\n",
      "        [12,  8, 10],\n",
      "        [ 5, 11, 10]]), materials_idx=tensor([0, 0, 0, 0, 0, 0, 0, 0, 0, 0, 0, 0]))\n",
      "aux =  Properties(normals=tensor([[ 0., -1.,  0.],\n",
      "        [ 0.,  1.,  0.],\n",
      "        [ 1.,  0.,  0.],\n",
      "        [-0.,  0.,  1.],\n",
      "        [-1., -0., -0.],\n",
      "        [ 0.,  0., -1.]]), verts_uvs=tensor([[1.0000, 0.3333],\n",
      "        [1.0000, 0.6667],\n",
      "        [0.6667, 0.6667],\n",
      "        [0.6667, 0.3333],\n",
      "        [0.6667, 0.0000],\n",
      "        [0.0000, 0.3333],\n",
      "        [0.0000, 0.0000],\n",
      "        [0.3333, 0.0000],\n",
      "        [0.3333, 1.0000],\n",
      "        [0.0000, 1.0000],\n",
      "        [0.0000, 0.6667],\n",
      "        [0.3333, 0.3333],\n",
      "        [0.3333, 0.6667],\n",
      "        [1.0000, 0.0000]]), material_colors={'Skin': {'ambient_color': tensor([0.2000, 0.2000, 0.2000]), 'diffuse_color': tensor([0.8275, 0.7922, 0.7725]), 'specular_color': tensor([0., 0., 0.]), 'shininess': tensor([0.])}}, texture_images={'Skin': tensor([[[0.2078, 0.1765, 0.1020],\n",
      "         [0.2039, 0.1725, 0.0980],\n",
      "         [0.1961, 0.1647, 0.0902],\n",
      "         ...,\n",
      "         [0.2588, 0.2275, 0.1451],\n",
      "         [0.2510, 0.2196, 0.1373],\n",
      "         [0.2353, 0.2039, 0.1216]],\n",
      "\n",
      "        [[0.1922, 0.1608, 0.0863],\n",
      "         [0.1882, 0.1569, 0.0824],\n",
      "         [0.1922, 0.1608, 0.0863],\n",
      "         ...,\n",
      "         [0.2706, 0.2392, 0.1569],\n",
      "         [0.2510, 0.2196, 0.1373],\n",
      "         [0.2353, 0.2039, 0.1216]],\n",
      "\n",
      "        [[0.1843, 0.1529, 0.0784],\n",
      "         [0.1843, 0.1529, 0.0784],\n",
      "         [0.1882, 0.1569, 0.0824],\n",
      "         ...,\n",
      "         [0.2784, 0.2471, 0.1647],\n",
      "         [0.2510, 0.2196, 0.1373],\n",
      "         [0.2353, 0.2039, 0.1216]],\n",
      "\n",
      "        ...,\n",
      "\n",
      "        [[0.3216, 0.2706, 0.2039],\n",
      "         [0.3137, 0.2627, 0.1961],\n",
      "         [0.3020, 0.2588, 0.1882],\n",
      "         ...,\n",
      "         [0.1843, 0.1490, 0.0824],\n",
      "         [0.2039, 0.1686, 0.1020],\n",
      "         [0.2196, 0.1843, 0.1176]],\n",
      "\n",
      "        [[0.2941, 0.2510, 0.1804],\n",
      "         [0.2471, 0.2039, 0.1333],\n",
      "         [0.2314, 0.1882, 0.1176],\n",
      "         ...,\n",
      "         [0.2431, 0.2078, 0.1490],\n",
      "         [0.2235, 0.1882, 0.1294],\n",
      "         [0.2235, 0.1882, 0.1294]],\n",
      "\n",
      "        [[0.2784, 0.2353, 0.1647],\n",
      "         [0.2353, 0.1922, 0.1216],\n",
      "         [0.2157, 0.1725, 0.1020],\n",
      "         ...,\n",
      "         [0.2431, 0.2078, 0.1490],\n",
      "         [0.2235, 0.1882, 0.1294],\n",
      "         [0.2235, 0.1882, 0.1294]]])}, texture_atlas=None)\n",
      "texture_images type =  <class 'dict'>\n",
      "Skin\n",
      "torch.Size([250, 250, 3])\n"
     ]
    }
   ],
   "source": [
    "print(\"Loading second mesh with PyTorch3D\")\n",
    "vertices, faces, aux = load_obj(mesh_file2)\n",
    "print('Type of vertices = ', type(vertices))\n",
    "print(\"Type of faces = \", type(faces))\n",
    "print(\"Type of aux = \", type(aux))\n",
    "print('vertices = ', vertices)\n",
    "print('faces = ', faces)\n",
    "print('aux = ', aux)\n",
    "\n",
    "texture_images = getattr(aux, 'texture_images')\n",
    "print('texture_images type = ', type(texture_images))\n",
    "for key in texture_images:\n",
    "    print(key)\n",
    "\n",
    "print(texture_images['Skin'].shape)"
   ]
  }
 ],
 "metadata": {
  "kernelspec": {
   "display_name": "venv_3dl",
   "language": "python",
   "name": "python3"
  },
  "language_info": {
   "codemirror_mode": {
    "name": "ipython",
    "version": 3
   },
   "file_extension": ".py",
   "mimetype": "text/x-python",
   "name": "python",
   "nbconvert_exporter": "python",
   "pygments_lexer": "ipython3",
   "version": "3.8.0"
  },
  "orig_nbformat": 4
 },
 "nbformat": 4,
 "nbformat_minor": 2
}
